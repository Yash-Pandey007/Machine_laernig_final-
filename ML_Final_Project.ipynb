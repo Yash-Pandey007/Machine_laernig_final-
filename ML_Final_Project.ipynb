{
  "nbformat": 4,
  "nbformat_minor": 0,
  "metadata": {
    "colab": {
      "provenance": [],
      "collapsed_sections": [
        "NxVpcEfbMF1I",
        "-ahSG_taM9y4",
        "usyb5aU9PL_u",
        "mLcU6iQTR0aL",
        "Smeq4kVQU-jA",
        "1yR67xlcTrop"
      ],
      "authorship_tag": "ABX9TyNhbLqBdyB8/hOrzW8MeeMH",
      "include_colab_link": true
    },
    "kernelspec": {
      "name": "python3",
      "display_name": "Python 3"
    },
    "language_info": {
      "name": "python"
    }
  },
  "cells": [
    {
      "cell_type": "markdown",
      "metadata": {
        "id": "view-in-github",
        "colab_type": "text"
      },
      "source": [
        "<a href=\"https://colab.research.google.com/github/Yash-Pandey007/Machine_laernig_final-/blob/main/ML_Final_Project.ipynb\" target=\"_parent\"><img src=\"https://colab.research.google.com/assets/colab-badge.svg\" alt=\"Open In Colab\"/></a>"
      ]
    },
    {
      "cell_type": "markdown",
      "source": [
        "# Business Objective: Taiwanese Bankruptcy Prediction\n",
        "###Objective:\n",
        "The goal of this project is to develop a robust bankruptcy prediction model that enables financial institutions, investors, and regulatory bodies to identify high-risk companies early, thereby minimizing financial losses and improving risk management."
      ],
      "metadata": {
        "id": "6QXylIHeE5UZ"
      }
    },
    {
      "cell_type": "markdown",
      "source": [
        "1. Financial Institutions: To assess the creditworthiness of loan applicants and\n",
        "manage lending risk more effectively.\n",
        "\n",
        "2. Investors: To make informed investment decisions, avoiding companies with a high risk of bankruptcy.\n",
        "\n",
        "3. Regulatory Bodies: To monitor the financial health of companies and identify potential systemic risks within the economy.\n",
        "\n",
        "4. Management: To get a better understanding of their weaknesses and how the can improve.\n",
        "\n",
        "The model should provide early warnings of impending bankruptcy, enabling proactive measures to mitigate financial losses and improve overall risk management."
      ],
      "metadata": {
        "id": "o6qyN7SwLemZ"
      }
    },
    {
      "cell_type": "markdown",
      "source": [
        "Source:[Taiwanese Bankruptcy Prediction](https://archive.ics.uci.edu/dataset/572/taiwanese+bankruptcy+prediction)"
      ],
      "metadata": {
        "id": "5XMy-lZTRBzL"
      }
    },
    {
      "cell_type": "markdown",
      "source": [
        "## 1. Library and Data Importing"
      ],
      "metadata": {
        "id": "NxVpcEfbMF1I"
      }
    },
    {
      "cell_type": "code",
      "execution_count": null,
      "metadata": {
        "id": "CGpINf5Y9Wn3"
      },
      "outputs": [],
      "source": [
        "# impoting nessary librarys\n",
        "import numpy as np\n",
        "import pandas as pd\n",
        "pd.set_option('display.max_columns', None)\n",
        "import matplotlib.pyplot as plt\n",
        "import seaborn as sns\n",
        "import warnings\n",
        "warnings.filterwarnings('ignore')"
      ]
    },
    {
      "cell_type": "code",
      "source": [
        "import gspread\n",
        "from google.auth import default\n",
        "from google.colab import auth\n",
        "auth.authenticate_user()\n",
        "creds, _ = default()\n",
        "gc = gspread.authorize(creds)\n",
        "spreadsheet = gc.open_by_key('1KH6G7DNSWO7g5wuAHyUK6GoHnaQzeQpiaZj_AFw50HE')\n",
        "worksheet = spreadsheet.get_worksheet(0)\n",
        "df = pd.DataFrame(worksheet.get())\n",
        "df.columns = df.iloc[0]\n",
        "df = df.drop(0)\n",
        "df.head()"
      ],
      "metadata": {
        "colab": {
          "base_uri": "https://localhost:8080/",
          "height": 313
        },
        "id": "TLnnUrX_9lwD",
        "outputId": "a1c8f532-fa7d-4dfc-cc13-f15865ce27eb"
      },
      "execution_count": null,
      "outputs": [
        {
          "output_type": "execute_result",
          "data": {
            "text/plain": [
              "0 Bankrupt? ROA(C) before interest and depreciation before interest  \\\n",
              "1         1                                       0.3705942573        \n",
              "2         1                                       0.4642909375        \n",
              "3         1                                       0.4260712719        \n",
              "4         1                                       0.3998440014        \n",
              "5         1                                       0.4650221811        \n",
              "\n",
              "0 ROA(A) before interest and % after tax  \\\n",
              "1                           0.4243894461   \n",
              "2                             0.53821413   \n",
              "3                           0.4990187527   \n",
              "4                           0.4512647187   \n",
              "5                           0.5384321849   \n",
              "\n",
              "0 ROA(B) before interest and depreciation after tax Operating Gross Margin  \\\n",
              "1                                      0.4057497725           0.6014572133   \n",
              "2                                      0.5167300177           0.6102350855   \n",
              "3                                      0.4722950907           0.6014500065   \n",
              "4                                      0.4577332834           0.5835411292   \n",
              "5                                      0.5222977675           0.5987834936   \n",
              "\n",
              "0 Realized Sales Gross Margin Operating Profit Rate Pre-tax net Interest Rate  \\\n",
              "1                0.6014572133          0.9989692032              0.7968871459   \n",
              "2                0.6102350855          0.9989459782              0.7973801913   \n",
              "3                 0.601363525          0.9988573535              0.7964033693   \n",
              "4                0.5835411292          0.9986997471              0.7969669683   \n",
              "5                0.5987834936          0.9989731318              0.7973660806   \n",
              "\n",
              "0 After-tax net Interest Rate Non-industry income and expenditure/revenue  \\\n",
              "1                0.8088093609                                0.3026464339   \n",
              "2                0.8093007257                                0.3035564303   \n",
              "3                0.8083875215                                0.3020351773   \n",
              "4                0.8089655977                                 0.303349536   \n",
              "5                0.8093037202                                0.3034749778   \n",
              "\n",
              "0 Continuous interest rate (after tax) Operating Expense Rate  \\\n",
              "1                         0.7809848502        0.0001256968689   \n",
              "2                         0.7815059743        0.0002897850537   \n",
              "3                         0.7802839362        0.0002361297206   \n",
              "4                         0.7812409912        0.0001078888488   \n",
              "5                         0.7815500446             7890000000   \n",
              "\n",
              "0 Research and development expense rate Cash flow rate  \\\n",
              "1                                     0   0.4581431435   \n",
              "2                                     0   0.4618672572   \n",
              "3                              25500000   0.4585205875   \n",
              "4                                     0   0.4657054427   \n",
              "5                                     0   0.4627462822   \n",
              "\n",
              "0 Interest-bearing debt interest rate Tax rate (A) Net Value Per Share (B)  \\\n",
              "1                     0.0007250725073            0            0.1479499389   \n",
              "2                     0.0006470647065            0             0.182251064   \n",
              "3                     0.0007900790079            0            0.1779107497   \n",
              "4                     0.0004490449045            0            0.1541865071   \n",
              "5                     0.0006860686069            0             0.167502423   \n",
              "\n",
              "0 Net Value Per Share (A) Net Value Per Share (C)  \\\n",
              "1            0.1479499389            0.1479499389   \n",
              "2             0.182251064             0.182251064   \n",
              "3            0.1779107497             0.193712865   \n",
              "4            0.1541865071            0.1541865071   \n",
              "5             0.167502423             0.167502423   \n",
              "\n",
              "0 Persistent EPS in the Last Four Seasons Cash Flow Per Share  \\\n",
              "1                            0.1691405881        0.3116644267   \n",
              "2                             0.208943935        0.3181368041   \n",
              "3                            0.1805805049        0.3071019311   \n",
              "4                            0.1937222275        0.3216736224   \n",
              "5                            0.2125366361        0.3191624814   \n",
              "\n",
              "0 Revenue Per Share (Yuan ¥) Operating Profit Per Share (Yuan ¥)  \\\n",
              "1              0.01755978039                       0.09592052764   \n",
              "2              0.02114433504                       0.09372200961   \n",
              "3             0.005944008349                       0.09233775751   \n",
              "4              0.01436846802                        0.0777623972   \n",
              "5              0.02968979234                       0.09689764677   \n",
              "\n",
              "0 Per Share Net profit before tax (Yuan ¥)  \\\n",
              "1                             0.1387361603   \n",
              "2                             0.1699179031   \n",
              "3                             0.1428033441   \n",
              "4                              0.148602847   \n",
              "5                             0.1684115388   \n",
              "\n",
              "0 Realized Sales Gross Profit Growth Rate Operating Profit Growth Rate  \\\n",
              "1                           0.02210227836                 0.8481949945   \n",
              "2                           0.02208016987                 0.8480878838   \n",
              "3                           0.02276009677                 0.8480940128   \n",
              "4                           0.02204606685                 0.8480054774   \n",
              "5                           0.02209590972                 0.8482582022   \n",
              "\n",
              "0 After-tax Net Profit Growth Rate Regular Net Profit Growth Rate  \\\n",
              "1                     0.6889794628                   0.6889794628   \n",
              "2                     0.6896929012                   0.6897017016   \n",
              "3                      0.689462677                   0.6894696596   \n",
              "4                     0.6891095356                   0.6891095356   \n",
              "5                      0.689696883                    0.689696883   \n",
              "\n",
              "0 Continuous Net Profit Growth Rate Total Asset Growth Rate  \\\n",
              "1                      0.2175353862              4980000000   \n",
              "2                      0.2176195965              6110000000   \n",
              "3                       0.217601299              7280000000   \n",
              "4                      0.2175681883              4880000000   \n",
              "5                      0.2176256392              5510000000   \n",
              "\n",
              "0 Net Value Growth Rate Total Asset Return Growth Rate Ratio  \\\n",
              "1       0.0003269772692                         0.2630999837   \n",
              "2       0.0004430401005                         0.2645157781   \n",
              "3       0.0003964253147                         0.2641839756   \n",
              "4       0.0003824259063                         0.2633711759   \n",
              "5       0.0004389475819                         0.2652182359   \n",
              "\n",
              "0 Cash Reinvestment %   Current Ratio     Quick Ratio Interest Expense Ratio  \\\n",
              "1         0.363725271  0.002258963311  0.001207755085            0.629951302   \n",
              "2         0.376709139  0.006016205878  0.004039366827           0.6351724634   \n",
              "3        0.3689132298   0.01154255369  0.005347560222           0.6296314434   \n",
              "4        0.3840765992  0.004194058677  0.002896491147            0.630228353   \n",
              "5        0.3796896539  0.006022446108  0.003727446609           0.6360549855   \n",
              "\n",
              "0 Total debt/Total net worth  Debt ratio % Net worth/Assets  \\\n",
              "1              0.02126592437  0.2075762615     0.7924237385   \n",
              "2              0.01250239378  0.1711763461     0.8288236539   \n",
              "3              0.02124768601  0.2075157965     0.7924842035   \n",
              "4             0.009572401718   0.151464764      0.848535236   \n",
              "5             0.005149600124  0.1065090546     0.8934909454   \n",
              "\n",
              "0 Long-term fund suitability ratio (A) Borrowing dependency  \\\n",
              "1                       0.005024454729         0.3902843544   \n",
              "2                       0.005058881754           0.37676002   \n",
              "3                       0.005099899414         0.3790929201   \n",
              "4                       0.005046924063         0.3797426876   \n",
              "5                       0.005303319196         0.3750254427   \n",
              "\n",
              "0 Contingent liabilities/Net worth Operating profit/Paid-in capital  \\\n",
              "1                   0.006478502486                    0.09588483398   \n",
              "2                   0.005835039485                     0.0937433843   \n",
              "3                   0.006561982061                    0.09231846532   \n",
              "4                   0.005365847714                    0.07772729493   \n",
              "5                   0.006623525397                    0.09692706043   \n",
              "\n",
              "0 Net profit before tax/Paid-in capital  \\\n",
              "1                          0.1377573335   \n",
              "2                          0.1689616168   \n",
              "3                          0.1480355931   \n",
              "4                          0.1475605158   \n",
              "5                          0.1674609758   \n",
              "\n",
              "0 Inventory and accounts receivable/Net value Total Asset Turnover  \\\n",
              "1                                0.3980356983        0.08695652174   \n",
              "2                                0.3977248825        0.06446776612   \n",
              "3                                 0.406580451        0.01499250375   \n",
              "4                                0.3979245013        0.08995502249   \n",
              "5                                0.4000787757         0.1754122939   \n",
              "\n",
              "0 Accounts Receivable Turnover Average Collection Days  \\\n",
              "1               0.001813884126          0.003487364282   \n",
              "2               0.001286356304          0.004916807917   \n",
              "3                0.00149533848           0.00422684946   \n",
              "4               0.001966055614          0.003214967317   \n",
              "5               0.001448672557          0.004366890533   \n",
              "\n",
              "0 Inventory Turnover Rate (times) Fixed Assets Turnover Frequency  \\\n",
              "1                 0.0001820925974                 0.0001165006532   \n",
              "2                      9360000000                       719000000   \n",
              "3                        65000000                      2650000000   \n",
              "4                      7130000000                      9150000000   \n",
              "5                 0.0001633674405                 0.0002935211263   \n",
              "\n",
              "0 Net Worth Turnover Rate (times) Revenue per person  \\\n",
              "1                   0.03290322581      0.03416418195   \n",
              "2                   0.02548387097     0.006888650618   \n",
              "3                   0.01338709677      0.02899695959   \n",
              "4                   0.02806451613       0.0154634784   \n",
              "5                   0.04016129032      0.05811142282   \n",
              "\n",
              "0 Operating profit per person Allocation rate per person  \\\n",
              "1                0.3929128695              0.03713530158   \n",
              "2                0.3915899686              0.01233497213   \n",
              "3                0.3819678433               0.1410163119   \n",
              "4                0.3784966419              0.02131998974   \n",
              "5                0.3943714525              0.02398821165   \n",
              "\n",
              "0 Working Capital to Total Assets Quick Assets/Total Assets  \\\n",
              "1                    0.6727752925              0.1666729588   \n",
              "2                     0.751110917              0.1272360023   \n",
              "3                    0.8295019149              0.3402008785   \n",
              "4                    0.7257541797              0.1615745316   \n",
              "5                    0.7518224525              0.2603298811   \n",
              "\n",
              "0 Current Assets/Total Assets Cash/Total Assets  \\\n",
              "1                0.1906429591    0.004094405952   \n",
              "2                0.1824190541     0.01494772697   \n",
              "3                0.6028057017   0.0009909444511   \n",
              "4                0.2258148689     0.01885062483   \n",
              "5                0.3583801598     0.01416097375   \n",
              "\n",
              "0 Quick Assets/Current Liability Cash/Current Liability  \\\n",
              "1                 0.001996770861        0.0001473360248   \n",
              "2                 0.004136029761         0.001383910081   \n",
              "3                 0.006302481383             5340000000   \n",
              "4                  0.00296123765         0.001010646432   \n",
              "5                  0.00427477087        0.0006804635597   \n",
              "\n",
              "0 Current Liability to Assets Operating Funds to Liability  \\\n",
              "1                0.1473084504                 0.3340151713   \n",
              "2               0.05696282742                  0.341105992   \n",
              "3               0.09816206454                 0.3367314947   \n",
              "4               0.09871463045                  0.348716439   \n",
              "5                0.1101948459                 0.3446387536   \n",
              "\n",
              "0 Inventory/Working Capital Inventory/Current Liability  \\\n",
              "1              0.2769201582              0.001035989992   \n",
              "2              0.2896415764                0.0052096824   \n",
              "3              0.2774555281                0.0138787858   \n",
              "4              0.2765803042              0.003540147896   \n",
              "5              0.2879126527              0.004868570289   \n",
              "\n",
              "0 Current Liabilities/Liability Working Capital/Equity  \\\n",
              "1                  0.6762691762           0.7212745515   \n",
              "2                   0.308588593           0.7319752885   \n",
              "3                  0.4460274872           0.7427286376   \n",
              "4                  0.6158483686           0.7298249087   \n",
              "5                  0.9750066161            0.731999641   \n",
              "\n",
              "0 Current Liabilities/Equity Long-term Liability to Current Assets  \\\n",
              "1               0.3390770068                           0.025592368   \n",
              "2               0.3297401479                         0.02394681867   \n",
              "3               0.3347768513                        0.003715115693   \n",
              "4               0.3315089787                         0.02216519975   \n",
              "5               0.3307263194                                     0   \n",
              "\n",
              "0 Retained Earnings to Total Assets Total income/Total expense  \\\n",
              "1                      0.9032247712             0.002021613012   \n",
              "2                      0.9310652176             0.002225608343   \n",
              "3                      0.9099033625              0.00206007065   \n",
              "4                      0.9069021588             0.001831358556   \n",
              "5                      0.9138501975             0.002223930035   \n",
              "\n",
              "0 Total expense/Assets Current Asset Turnover Rate Quick Asset Turnover Rate  \\\n",
              "1        0.06485570769                   701000000                6550000000   \n",
              "2           0.02551586             0.0001065197628                7700000000   \n",
              "3        0.02138742823                0.0017910937            0.001022676472   \n",
              "4        0.02416107017                  8140000000                6050000000   \n",
              "5        0.02638524565                  6680000000                5050000000   \n",
              "\n",
              "0 Working capitcal Turnover Rate Cash Turnover Rate Cash Flow to Sales  \\\n",
              "1                    0.593830504          458000000       0.6715676536   \n",
              "2                   0.5939155479         2490000000       0.6715699423   \n",
              "3                   0.5945018513          761000000       0.6715713218   \n",
              "4                   0.5938887926         2030000000       0.6715191702   \n",
              "5                   0.5939152609          824000000       0.6715630525   \n",
              "\n",
              "0 Fixed Assets to Assets Current Liability to Liability  \\\n",
              "1           0.4242057622                   0.6762691762   \n",
              "2           0.4688281283                    0.308588593   \n",
              "3           0.2761792222                   0.4460274872   \n",
              "4           0.5591439633                   0.6158483686   \n",
              "5           0.3095549166                   0.9750066161   \n",
              "\n",
              "0 Current Liability to Equity Equity to Long-term Liability  \\\n",
              "1                0.3390770068                  0.1265494878   \n",
              "2                0.3297401479                  0.1209161058   \n",
              "3                0.3347768513                  0.1179223194   \n",
              "4                0.3315089787                  0.1207604553   \n",
              "5                0.3307263194                  0.1109332337   \n",
              "\n",
              "0 Cash Flow to Total Assets Cash Flow to Liability CFO to Assets  \\\n",
              "1              0.6375553953           0.4586091477  0.5203819179   \n",
              "2              0.6410999847           0.4590010533  0.5671013087   \n",
              "3              0.6427645502           0.4592540355  0.5384905396   \n",
              "4              0.5790393123           0.4485179116  0.6041050562   \n",
              "5               0.622374075           0.4544109319  0.5784689032   \n",
              "\n",
              "0 Cash Flow to Equity Current Liability to Current Assets  \\\n",
              "1        0.3129049481                        0.1182504766   \n",
              "2        0.3141631352                       0.04777528159   \n",
              "3        0.3145154263                       0.02534648913   \n",
              "4        0.3023822548                       0.06724961726   \n",
              "5        0.3115671605                       0.04772537176   \n",
              "\n",
              "0 Liability-Assets Flag Net Income to Total Assets Total assets to GNP price  \\\n",
              "1                     0               0.7168453432            0.009219440021   \n",
              "2                     0                0.795297136            0.008323301795   \n",
              "3                     0                0.774669697             0.04000285285   \n",
              "4                     0               0.7395545252            0.003252475291   \n",
              "5                     0               0.7950158726            0.003877563094   \n",
              "\n",
              "0 No-credit Interval Gross Profit to Sales Net Income to Stockholder's Equity  \\\n",
              "1       0.6228789594          0.6014532901                        0.827890214   \n",
              "2       0.6236517417          0.6102365259                        0.839969268   \n",
              "3       0.6238410376          0.6014493405                       0.8367743086   \n",
              "4       0.6229287091          0.5835376122                       0.8346971068   \n",
              "5       0.6235206977          0.5987815099                       0.8399727458   \n",
              "\n",
              "0 Liability to Equity Degree of Financial Leverage (DFL)  \\\n",
              "1        0.2902018928                      0.02660063076   \n",
              "2        0.2838459798                       0.2645768198   \n",
              "3        0.2901885329                      0.02655471992   \n",
              "4         0.281721193                      0.02669663442   \n",
              "5        0.2785137899                      0.02475184805   \n",
              "\n",
              "0 Interest Coverage Ratio (Interest expense to EBIT) Net Income Flag  \\\n",
              "1                                       0.5640501123               1   \n",
              "2                                       0.5701749464               1   \n",
              "3                                       0.5637060765               1   \n",
              "4                                       0.5646634203               1   \n",
              "5                                       0.5756166452               1   \n",
              "\n",
              "0 Equity to Liability  \n",
              "1       0.01646874091  \n",
              "2       0.02079430633  \n",
              "3       0.01647411433  \n",
              "4       0.02398233221  \n",
              "5       0.03549020088  "
            ],
            "text/html": [
              "\n",
              "  <div id=\"df-9d9d1037-d5af-490d-86c7-65dd470b06e3\" class=\"colab-df-container\">\n",
              "    <div>\n",
              "<style scoped>\n",
              "    .dataframe tbody tr th:only-of-type {\n",
              "        vertical-align: middle;\n",
              "    }\n",
              "\n",
              "    .dataframe tbody tr th {\n",
              "        vertical-align: top;\n",
              "    }\n",
              "\n",
              "    .dataframe thead th {\n",
              "        text-align: right;\n",
              "    }\n",
              "</style>\n",
              "<table border=\"1\" class=\"dataframe\">\n",
              "  <thead>\n",
              "    <tr style=\"text-align: right;\">\n",
              "      <th></th>\n",
              "      <th>Bankrupt?</th>\n",
              "      <th>ROA(C) before interest and depreciation before interest</th>\n",
              "      <th>ROA(A) before interest and % after tax</th>\n",
              "      <th>ROA(B) before interest and depreciation after tax</th>\n",
              "      <th>Operating Gross Margin</th>\n",
              "      <th>Realized Sales Gross Margin</th>\n",
              "      <th>Operating Profit Rate</th>\n",
              "      <th>Pre-tax net Interest Rate</th>\n",
              "      <th>After-tax net Interest Rate</th>\n",
              "      <th>Non-industry income and expenditure/revenue</th>\n",
              "      <th>Continuous interest rate (after tax)</th>\n",
              "      <th>Operating Expense Rate</th>\n",
              "      <th>Research and development expense rate</th>\n",
              "      <th>Cash flow rate</th>\n",
              "      <th>Interest-bearing debt interest rate</th>\n",
              "      <th>Tax rate (A)</th>\n",
              "      <th>Net Value Per Share (B)</th>\n",
              "      <th>Net Value Per Share (A)</th>\n",
              "      <th>Net Value Per Share (C)</th>\n",
              "      <th>Persistent EPS in the Last Four Seasons</th>\n",
              "      <th>Cash Flow Per Share</th>\n",
              "      <th>Revenue Per Share (Yuan ¥)</th>\n",
              "      <th>Operating Profit Per Share (Yuan ¥)</th>\n",
              "      <th>Per Share Net profit before tax (Yuan ¥)</th>\n",
              "      <th>Realized Sales Gross Profit Growth Rate</th>\n",
              "      <th>Operating Profit Growth Rate</th>\n",
              "      <th>After-tax Net Profit Growth Rate</th>\n",
              "      <th>Regular Net Profit Growth Rate</th>\n",
              "      <th>Continuous Net Profit Growth Rate</th>\n",
              "      <th>Total Asset Growth Rate</th>\n",
              "      <th>Net Value Growth Rate</th>\n",
              "      <th>Total Asset Return Growth Rate Ratio</th>\n",
              "      <th>Cash Reinvestment %</th>\n",
              "      <th>Current Ratio</th>\n",
              "      <th>Quick Ratio</th>\n",
              "      <th>Interest Expense Ratio</th>\n",
              "      <th>Total debt/Total net worth</th>\n",
              "      <th>Debt ratio %</th>\n",
              "      <th>Net worth/Assets</th>\n",
              "      <th>Long-term fund suitability ratio (A)</th>\n",
              "      <th>Borrowing dependency</th>\n",
              "      <th>Contingent liabilities/Net worth</th>\n",
              "      <th>Operating profit/Paid-in capital</th>\n",
              "      <th>Net profit before tax/Paid-in capital</th>\n",
              "      <th>Inventory and accounts receivable/Net value</th>\n",
              "      <th>Total Asset Turnover</th>\n",
              "      <th>Accounts Receivable Turnover</th>\n",
              "      <th>Average Collection Days</th>\n",
              "      <th>Inventory Turnover Rate (times)</th>\n",
              "      <th>Fixed Assets Turnover Frequency</th>\n",
              "      <th>Net Worth Turnover Rate (times)</th>\n",
              "      <th>Revenue per person</th>\n",
              "      <th>Operating profit per person</th>\n",
              "      <th>Allocation rate per person</th>\n",
              "      <th>Working Capital to Total Assets</th>\n",
              "      <th>Quick Assets/Total Assets</th>\n",
              "      <th>Current Assets/Total Assets</th>\n",
              "      <th>Cash/Total Assets</th>\n",
              "      <th>Quick Assets/Current Liability</th>\n",
              "      <th>Cash/Current Liability</th>\n",
              "      <th>Current Liability to Assets</th>\n",
              "      <th>Operating Funds to Liability</th>\n",
              "      <th>Inventory/Working Capital</th>\n",
              "      <th>Inventory/Current Liability</th>\n",
              "      <th>Current Liabilities/Liability</th>\n",
              "      <th>Working Capital/Equity</th>\n",
              "      <th>Current Liabilities/Equity</th>\n",
              "      <th>Long-term Liability to Current Assets</th>\n",
              "      <th>Retained Earnings to Total Assets</th>\n",
              "      <th>Total income/Total expense</th>\n",
              "      <th>Total expense/Assets</th>\n",
              "      <th>Current Asset Turnover Rate</th>\n",
              "      <th>Quick Asset Turnover Rate</th>\n",
              "      <th>Working capitcal Turnover Rate</th>\n",
              "      <th>Cash Turnover Rate</th>\n",
              "      <th>Cash Flow to Sales</th>\n",
              "      <th>Fixed Assets to Assets</th>\n",
              "      <th>Current Liability to Liability</th>\n",
              "      <th>Current Liability to Equity</th>\n",
              "      <th>Equity to Long-term Liability</th>\n",
              "      <th>Cash Flow to Total Assets</th>\n",
              "      <th>Cash Flow to Liability</th>\n",
              "      <th>CFO to Assets</th>\n",
              "      <th>Cash Flow to Equity</th>\n",
              "      <th>Current Liability to Current Assets</th>\n",
              "      <th>Liability-Assets Flag</th>\n",
              "      <th>Net Income to Total Assets</th>\n",
              "      <th>Total assets to GNP price</th>\n",
              "      <th>No-credit Interval</th>\n",
              "      <th>Gross Profit to Sales</th>\n",
              "      <th>Net Income to Stockholder's Equity</th>\n",
              "      <th>Liability to Equity</th>\n",
              "      <th>Degree of Financial Leverage (DFL)</th>\n",
              "      <th>Interest Coverage Ratio (Interest expense to EBIT)</th>\n",
              "      <th>Net Income Flag</th>\n",
              "      <th>Equity to Liability</th>\n",
              "    </tr>\n",
              "  </thead>\n",
              "  <tbody>\n",
              "    <tr>\n",
              "      <th>1</th>\n",
              "      <td>1</td>\n",
              "      <td>0.3705942573</td>\n",
              "      <td>0.4243894461</td>\n",
              "      <td>0.4057497725</td>\n",
              "      <td>0.6014572133</td>\n",
              "      <td>0.6014572133</td>\n",
              "      <td>0.9989692032</td>\n",
              "      <td>0.7968871459</td>\n",
              "      <td>0.8088093609</td>\n",
              "      <td>0.3026464339</td>\n",
              "      <td>0.7809848502</td>\n",
              "      <td>0.0001256968689</td>\n",
              "      <td>0</td>\n",
              "      <td>0.4581431435</td>\n",
              "      <td>0.0007250725073</td>\n",
              "      <td>0</td>\n",
              "      <td>0.1479499389</td>\n",
              "      <td>0.1479499389</td>\n",
              "      <td>0.1479499389</td>\n",
              "      <td>0.1691405881</td>\n",
              "      <td>0.3116644267</td>\n",
              "      <td>0.01755978039</td>\n",
              "      <td>0.09592052764</td>\n",
              "      <td>0.1387361603</td>\n",
              "      <td>0.02210227836</td>\n",
              "      <td>0.8481949945</td>\n",
              "      <td>0.6889794628</td>\n",
              "      <td>0.6889794628</td>\n",
              "      <td>0.2175353862</td>\n",
              "      <td>4980000000</td>\n",
              "      <td>0.0003269772692</td>\n",
              "      <td>0.2630999837</td>\n",
              "      <td>0.363725271</td>\n",
              "      <td>0.002258963311</td>\n",
              "      <td>0.001207755085</td>\n",
              "      <td>0.629951302</td>\n",
              "      <td>0.02126592437</td>\n",
              "      <td>0.2075762615</td>\n",
              "      <td>0.7924237385</td>\n",
              "      <td>0.005024454729</td>\n",
              "      <td>0.3902843544</td>\n",
              "      <td>0.006478502486</td>\n",
              "      <td>0.09588483398</td>\n",
              "      <td>0.1377573335</td>\n",
              "      <td>0.3980356983</td>\n",
              "      <td>0.08695652174</td>\n",
              "      <td>0.001813884126</td>\n",
              "      <td>0.003487364282</td>\n",
              "      <td>0.0001820925974</td>\n",
              "      <td>0.0001165006532</td>\n",
              "      <td>0.03290322581</td>\n",
              "      <td>0.03416418195</td>\n",
              "      <td>0.3929128695</td>\n",
              "      <td>0.03713530158</td>\n",
              "      <td>0.6727752925</td>\n",
              "      <td>0.1666729588</td>\n",
              "      <td>0.1906429591</td>\n",
              "      <td>0.004094405952</td>\n",
              "      <td>0.001996770861</td>\n",
              "      <td>0.0001473360248</td>\n",
              "      <td>0.1473084504</td>\n",
              "      <td>0.3340151713</td>\n",
              "      <td>0.2769201582</td>\n",
              "      <td>0.001035989992</td>\n",
              "      <td>0.6762691762</td>\n",
              "      <td>0.7212745515</td>\n",
              "      <td>0.3390770068</td>\n",
              "      <td>0.025592368</td>\n",
              "      <td>0.9032247712</td>\n",
              "      <td>0.002021613012</td>\n",
              "      <td>0.06485570769</td>\n",
              "      <td>701000000</td>\n",
              "      <td>6550000000</td>\n",
              "      <td>0.593830504</td>\n",
              "      <td>458000000</td>\n",
              "      <td>0.6715676536</td>\n",
              "      <td>0.4242057622</td>\n",
              "      <td>0.6762691762</td>\n",
              "      <td>0.3390770068</td>\n",
              "      <td>0.1265494878</td>\n",
              "      <td>0.6375553953</td>\n",
              "      <td>0.4586091477</td>\n",
              "      <td>0.5203819179</td>\n",
              "      <td>0.3129049481</td>\n",
              "      <td>0.1182504766</td>\n",
              "      <td>0</td>\n",
              "      <td>0.7168453432</td>\n",
              "      <td>0.009219440021</td>\n",
              "      <td>0.6228789594</td>\n",
              "      <td>0.6014532901</td>\n",
              "      <td>0.827890214</td>\n",
              "      <td>0.2902018928</td>\n",
              "      <td>0.02660063076</td>\n",
              "      <td>0.5640501123</td>\n",
              "      <td>1</td>\n",
              "      <td>0.01646874091</td>\n",
              "    </tr>\n",
              "    <tr>\n",
              "      <th>2</th>\n",
              "      <td>1</td>\n",
              "      <td>0.4642909375</td>\n",
              "      <td>0.53821413</td>\n",
              "      <td>0.5167300177</td>\n",
              "      <td>0.6102350855</td>\n",
              "      <td>0.6102350855</td>\n",
              "      <td>0.9989459782</td>\n",
              "      <td>0.7973801913</td>\n",
              "      <td>0.8093007257</td>\n",
              "      <td>0.3035564303</td>\n",
              "      <td>0.7815059743</td>\n",
              "      <td>0.0002897850537</td>\n",
              "      <td>0</td>\n",
              "      <td>0.4618672572</td>\n",
              "      <td>0.0006470647065</td>\n",
              "      <td>0</td>\n",
              "      <td>0.182251064</td>\n",
              "      <td>0.182251064</td>\n",
              "      <td>0.182251064</td>\n",
              "      <td>0.208943935</td>\n",
              "      <td>0.3181368041</td>\n",
              "      <td>0.02114433504</td>\n",
              "      <td>0.09372200961</td>\n",
              "      <td>0.1699179031</td>\n",
              "      <td>0.02208016987</td>\n",
              "      <td>0.8480878838</td>\n",
              "      <td>0.6896929012</td>\n",
              "      <td>0.6897017016</td>\n",
              "      <td>0.2176195965</td>\n",
              "      <td>6110000000</td>\n",
              "      <td>0.0004430401005</td>\n",
              "      <td>0.2645157781</td>\n",
              "      <td>0.376709139</td>\n",
              "      <td>0.006016205878</td>\n",
              "      <td>0.004039366827</td>\n",
              "      <td>0.6351724634</td>\n",
              "      <td>0.01250239378</td>\n",
              "      <td>0.1711763461</td>\n",
              "      <td>0.8288236539</td>\n",
              "      <td>0.005058881754</td>\n",
              "      <td>0.37676002</td>\n",
              "      <td>0.005835039485</td>\n",
              "      <td>0.0937433843</td>\n",
              "      <td>0.1689616168</td>\n",
              "      <td>0.3977248825</td>\n",
              "      <td>0.06446776612</td>\n",
              "      <td>0.001286356304</td>\n",
              "      <td>0.004916807917</td>\n",
              "      <td>9360000000</td>\n",
              "      <td>719000000</td>\n",
              "      <td>0.02548387097</td>\n",
              "      <td>0.006888650618</td>\n",
              "      <td>0.3915899686</td>\n",
              "      <td>0.01233497213</td>\n",
              "      <td>0.751110917</td>\n",
              "      <td>0.1272360023</td>\n",
              "      <td>0.1824190541</td>\n",
              "      <td>0.01494772697</td>\n",
              "      <td>0.004136029761</td>\n",
              "      <td>0.001383910081</td>\n",
              "      <td>0.05696282742</td>\n",
              "      <td>0.341105992</td>\n",
              "      <td>0.2896415764</td>\n",
              "      <td>0.0052096824</td>\n",
              "      <td>0.308588593</td>\n",
              "      <td>0.7319752885</td>\n",
              "      <td>0.3297401479</td>\n",
              "      <td>0.02394681867</td>\n",
              "      <td>0.9310652176</td>\n",
              "      <td>0.002225608343</td>\n",
              "      <td>0.02551586</td>\n",
              "      <td>0.0001065197628</td>\n",
              "      <td>7700000000</td>\n",
              "      <td>0.5939155479</td>\n",
              "      <td>2490000000</td>\n",
              "      <td>0.6715699423</td>\n",
              "      <td>0.4688281283</td>\n",
              "      <td>0.308588593</td>\n",
              "      <td>0.3297401479</td>\n",
              "      <td>0.1209161058</td>\n",
              "      <td>0.6410999847</td>\n",
              "      <td>0.4590010533</td>\n",
              "      <td>0.5671013087</td>\n",
              "      <td>0.3141631352</td>\n",
              "      <td>0.04777528159</td>\n",
              "      <td>0</td>\n",
              "      <td>0.795297136</td>\n",
              "      <td>0.008323301795</td>\n",
              "      <td>0.6236517417</td>\n",
              "      <td>0.6102365259</td>\n",
              "      <td>0.839969268</td>\n",
              "      <td>0.2838459798</td>\n",
              "      <td>0.2645768198</td>\n",
              "      <td>0.5701749464</td>\n",
              "      <td>1</td>\n",
              "      <td>0.02079430633</td>\n",
              "    </tr>\n",
              "    <tr>\n",
              "      <th>3</th>\n",
              "      <td>1</td>\n",
              "      <td>0.4260712719</td>\n",
              "      <td>0.4990187527</td>\n",
              "      <td>0.4722950907</td>\n",
              "      <td>0.6014500065</td>\n",
              "      <td>0.601363525</td>\n",
              "      <td>0.9988573535</td>\n",
              "      <td>0.7964033693</td>\n",
              "      <td>0.8083875215</td>\n",
              "      <td>0.3020351773</td>\n",
              "      <td>0.7802839362</td>\n",
              "      <td>0.0002361297206</td>\n",
              "      <td>25500000</td>\n",
              "      <td>0.4585205875</td>\n",
              "      <td>0.0007900790079</td>\n",
              "      <td>0</td>\n",
              "      <td>0.1779107497</td>\n",
              "      <td>0.1779107497</td>\n",
              "      <td>0.193712865</td>\n",
              "      <td>0.1805805049</td>\n",
              "      <td>0.3071019311</td>\n",
              "      <td>0.005944008349</td>\n",
              "      <td>0.09233775751</td>\n",
              "      <td>0.1428033441</td>\n",
              "      <td>0.02276009677</td>\n",
              "      <td>0.8480940128</td>\n",
              "      <td>0.689462677</td>\n",
              "      <td>0.6894696596</td>\n",
              "      <td>0.217601299</td>\n",
              "      <td>7280000000</td>\n",
              "      <td>0.0003964253147</td>\n",
              "      <td>0.2641839756</td>\n",
              "      <td>0.3689132298</td>\n",
              "      <td>0.01154255369</td>\n",
              "      <td>0.005347560222</td>\n",
              "      <td>0.6296314434</td>\n",
              "      <td>0.02124768601</td>\n",
              "      <td>0.2075157965</td>\n",
              "      <td>0.7924842035</td>\n",
              "      <td>0.005099899414</td>\n",
              "      <td>0.3790929201</td>\n",
              "      <td>0.006561982061</td>\n",
              "      <td>0.09231846532</td>\n",
              "      <td>0.1480355931</td>\n",
              "      <td>0.406580451</td>\n",
              "      <td>0.01499250375</td>\n",
              "      <td>0.00149533848</td>\n",
              "      <td>0.00422684946</td>\n",
              "      <td>65000000</td>\n",
              "      <td>2650000000</td>\n",
              "      <td>0.01338709677</td>\n",
              "      <td>0.02899695959</td>\n",
              "      <td>0.3819678433</td>\n",
              "      <td>0.1410163119</td>\n",
              "      <td>0.8295019149</td>\n",
              "      <td>0.3402008785</td>\n",
              "      <td>0.6028057017</td>\n",
              "      <td>0.0009909444511</td>\n",
              "      <td>0.006302481383</td>\n",
              "      <td>5340000000</td>\n",
              "      <td>0.09816206454</td>\n",
              "      <td>0.3367314947</td>\n",
              "      <td>0.2774555281</td>\n",
              "      <td>0.0138787858</td>\n",
              "      <td>0.4460274872</td>\n",
              "      <td>0.7427286376</td>\n",
              "      <td>0.3347768513</td>\n",
              "      <td>0.003715115693</td>\n",
              "      <td>0.9099033625</td>\n",
              "      <td>0.00206007065</td>\n",
              "      <td>0.02138742823</td>\n",
              "      <td>0.0017910937</td>\n",
              "      <td>0.001022676472</td>\n",
              "      <td>0.5945018513</td>\n",
              "      <td>761000000</td>\n",
              "      <td>0.6715713218</td>\n",
              "      <td>0.2761792222</td>\n",
              "      <td>0.4460274872</td>\n",
              "      <td>0.3347768513</td>\n",
              "      <td>0.1179223194</td>\n",
              "      <td>0.6427645502</td>\n",
              "      <td>0.4592540355</td>\n",
              "      <td>0.5384905396</td>\n",
              "      <td>0.3145154263</td>\n",
              "      <td>0.02534648913</td>\n",
              "      <td>0</td>\n",
              "      <td>0.774669697</td>\n",
              "      <td>0.04000285285</td>\n",
              "      <td>0.6238410376</td>\n",
              "      <td>0.6014493405</td>\n",
              "      <td>0.8367743086</td>\n",
              "      <td>0.2901885329</td>\n",
              "      <td>0.02655471992</td>\n",
              "      <td>0.5637060765</td>\n",
              "      <td>1</td>\n",
              "      <td>0.01647411433</td>\n",
              "    </tr>\n",
              "    <tr>\n",
              "      <th>4</th>\n",
              "      <td>1</td>\n",
              "      <td>0.3998440014</td>\n",
              "      <td>0.4512647187</td>\n",
              "      <td>0.4577332834</td>\n",
              "      <td>0.5835411292</td>\n",
              "      <td>0.5835411292</td>\n",
              "      <td>0.9986997471</td>\n",
              "      <td>0.7969669683</td>\n",
              "      <td>0.8089655977</td>\n",
              "      <td>0.303349536</td>\n",
              "      <td>0.7812409912</td>\n",
              "      <td>0.0001078888488</td>\n",
              "      <td>0</td>\n",
              "      <td>0.4657054427</td>\n",
              "      <td>0.0004490449045</td>\n",
              "      <td>0</td>\n",
              "      <td>0.1541865071</td>\n",
              "      <td>0.1541865071</td>\n",
              "      <td>0.1541865071</td>\n",
              "      <td>0.1937222275</td>\n",
              "      <td>0.3216736224</td>\n",
              "      <td>0.01436846802</td>\n",
              "      <td>0.0777623972</td>\n",
              "      <td>0.148602847</td>\n",
              "      <td>0.02204606685</td>\n",
              "      <td>0.8480054774</td>\n",
              "      <td>0.6891095356</td>\n",
              "      <td>0.6891095356</td>\n",
              "      <td>0.2175681883</td>\n",
              "      <td>4880000000</td>\n",
              "      <td>0.0003824259063</td>\n",
              "      <td>0.2633711759</td>\n",
              "      <td>0.3840765992</td>\n",
              "      <td>0.004194058677</td>\n",
              "      <td>0.002896491147</td>\n",
              "      <td>0.630228353</td>\n",
              "      <td>0.009572401718</td>\n",
              "      <td>0.151464764</td>\n",
              "      <td>0.848535236</td>\n",
              "      <td>0.005046924063</td>\n",
              "      <td>0.3797426876</td>\n",
              "      <td>0.005365847714</td>\n",
              "      <td>0.07772729493</td>\n",
              "      <td>0.1475605158</td>\n",
              "      <td>0.3979245013</td>\n",
              "      <td>0.08995502249</td>\n",
              "      <td>0.001966055614</td>\n",
              "      <td>0.003214967317</td>\n",
              "      <td>7130000000</td>\n",
              "      <td>9150000000</td>\n",
              "      <td>0.02806451613</td>\n",
              "      <td>0.0154634784</td>\n",
              "      <td>0.3784966419</td>\n",
              "      <td>0.02131998974</td>\n",
              "      <td>0.7257541797</td>\n",
              "      <td>0.1615745316</td>\n",
              "      <td>0.2258148689</td>\n",
              "      <td>0.01885062483</td>\n",
              "      <td>0.00296123765</td>\n",
              "      <td>0.001010646432</td>\n",
              "      <td>0.09871463045</td>\n",
              "      <td>0.348716439</td>\n",
              "      <td>0.2765803042</td>\n",
              "      <td>0.003540147896</td>\n",
              "      <td>0.6158483686</td>\n",
              "      <td>0.7298249087</td>\n",
              "      <td>0.3315089787</td>\n",
              "      <td>0.02216519975</td>\n",
              "      <td>0.9069021588</td>\n",
              "      <td>0.001831358556</td>\n",
              "      <td>0.02416107017</td>\n",
              "      <td>8140000000</td>\n",
              "      <td>6050000000</td>\n",
              "      <td>0.5938887926</td>\n",
              "      <td>2030000000</td>\n",
              "      <td>0.6715191702</td>\n",
              "      <td>0.5591439633</td>\n",
              "      <td>0.6158483686</td>\n",
              "      <td>0.3315089787</td>\n",
              "      <td>0.1207604553</td>\n",
              "      <td>0.5790393123</td>\n",
              "      <td>0.4485179116</td>\n",
              "      <td>0.6041050562</td>\n",
              "      <td>0.3023822548</td>\n",
              "      <td>0.06724961726</td>\n",
              "      <td>0</td>\n",
              "      <td>0.7395545252</td>\n",
              "      <td>0.003252475291</td>\n",
              "      <td>0.6229287091</td>\n",
              "      <td>0.5835376122</td>\n",
              "      <td>0.8346971068</td>\n",
              "      <td>0.281721193</td>\n",
              "      <td>0.02669663442</td>\n",
              "      <td>0.5646634203</td>\n",
              "      <td>1</td>\n",
              "      <td>0.02398233221</td>\n",
              "    </tr>\n",
              "    <tr>\n",
              "      <th>5</th>\n",
              "      <td>1</td>\n",
              "      <td>0.4650221811</td>\n",
              "      <td>0.5384321849</td>\n",
              "      <td>0.5222977675</td>\n",
              "      <td>0.5987834936</td>\n",
              "      <td>0.5987834936</td>\n",
              "      <td>0.9989731318</td>\n",
              "      <td>0.7973660806</td>\n",
              "      <td>0.8093037202</td>\n",
              "      <td>0.3034749778</td>\n",
              "      <td>0.7815500446</td>\n",
              "      <td>7890000000</td>\n",
              "      <td>0</td>\n",
              "      <td>0.4627462822</td>\n",
              "      <td>0.0006860686069</td>\n",
              "      <td>0</td>\n",
              "      <td>0.167502423</td>\n",
              "      <td>0.167502423</td>\n",
              "      <td>0.167502423</td>\n",
              "      <td>0.2125366361</td>\n",
              "      <td>0.3191624814</td>\n",
              "      <td>0.02968979234</td>\n",
              "      <td>0.09689764677</td>\n",
              "      <td>0.1684115388</td>\n",
              "      <td>0.02209590972</td>\n",
              "      <td>0.8482582022</td>\n",
              "      <td>0.689696883</td>\n",
              "      <td>0.689696883</td>\n",
              "      <td>0.2176256392</td>\n",
              "      <td>5510000000</td>\n",
              "      <td>0.0004389475819</td>\n",
              "      <td>0.2652182359</td>\n",
              "      <td>0.3796896539</td>\n",
              "      <td>0.006022446108</td>\n",
              "      <td>0.003727446609</td>\n",
              "      <td>0.6360549855</td>\n",
              "      <td>0.005149600124</td>\n",
              "      <td>0.1065090546</td>\n",
              "      <td>0.8934909454</td>\n",
              "      <td>0.005303319196</td>\n",
              "      <td>0.3750254427</td>\n",
              "      <td>0.006623525397</td>\n",
              "      <td>0.09692706043</td>\n",
              "      <td>0.1674609758</td>\n",
              "      <td>0.4000787757</td>\n",
              "      <td>0.1754122939</td>\n",
              "      <td>0.001448672557</td>\n",
              "      <td>0.004366890533</td>\n",
              "      <td>0.0001633674405</td>\n",
              "      <td>0.0002935211263</td>\n",
              "      <td>0.04016129032</td>\n",
              "      <td>0.05811142282</td>\n",
              "      <td>0.3943714525</td>\n",
              "      <td>0.02398821165</td>\n",
              "      <td>0.7518224525</td>\n",
              "      <td>0.2603298811</td>\n",
              "      <td>0.3583801598</td>\n",
              "      <td>0.01416097375</td>\n",
              "      <td>0.00427477087</td>\n",
              "      <td>0.0006804635597</td>\n",
              "      <td>0.1101948459</td>\n",
              "      <td>0.3446387536</td>\n",
              "      <td>0.2879126527</td>\n",
              "      <td>0.004868570289</td>\n",
              "      <td>0.9750066161</td>\n",
              "      <td>0.731999641</td>\n",
              "      <td>0.3307263194</td>\n",
              "      <td>0</td>\n",
              "      <td>0.9138501975</td>\n",
              "      <td>0.002223930035</td>\n",
              "      <td>0.02638524565</td>\n",
              "      <td>6680000000</td>\n",
              "      <td>5050000000</td>\n",
              "      <td>0.5939152609</td>\n",
              "      <td>824000000</td>\n",
              "      <td>0.6715630525</td>\n",
              "      <td>0.3095549166</td>\n",
              "      <td>0.9750066161</td>\n",
              "      <td>0.3307263194</td>\n",
              "      <td>0.1109332337</td>\n",
              "      <td>0.622374075</td>\n",
              "      <td>0.4544109319</td>\n",
              "      <td>0.5784689032</td>\n",
              "      <td>0.3115671605</td>\n",
              "      <td>0.04772537176</td>\n",
              "      <td>0</td>\n",
              "      <td>0.7950158726</td>\n",
              "      <td>0.003877563094</td>\n",
              "      <td>0.6235206977</td>\n",
              "      <td>0.5987815099</td>\n",
              "      <td>0.8399727458</td>\n",
              "      <td>0.2785137899</td>\n",
              "      <td>0.02475184805</td>\n",
              "      <td>0.5756166452</td>\n",
              "      <td>1</td>\n",
              "      <td>0.03549020088</td>\n",
              "    </tr>\n",
              "  </tbody>\n",
              "</table>\n",
              "</div>\n",
              "    <div class=\"colab-df-buttons\">\n",
              "\n",
              "  <div class=\"colab-df-container\">\n",
              "    <button class=\"colab-df-convert\" onclick=\"convertToInteractive('df-9d9d1037-d5af-490d-86c7-65dd470b06e3')\"\n",
              "            title=\"Convert this dataframe to an interactive table.\"\n",
              "            style=\"display:none;\">\n",
              "\n",
              "  <svg xmlns=\"http://www.w3.org/2000/svg\" height=\"24px\" viewBox=\"0 -960 960 960\">\n",
              "    <path d=\"M120-120v-720h720v720H120Zm60-500h600v-160H180v160Zm220 220h160v-160H400v160Zm0 220h160v-160H400v160ZM180-400h160v-160H180v160Zm440 0h160v-160H620v160ZM180-180h160v-160H180v160Zm440 0h160v-160H620v160Z\"/>\n",
              "  </svg>\n",
              "    </button>\n",
              "\n",
              "  <style>\n",
              "    .colab-df-container {\n",
              "      display:flex;\n",
              "      gap: 12px;\n",
              "    }\n",
              "\n",
              "    .colab-df-convert {\n",
              "      background-color: #E8F0FE;\n",
              "      border: none;\n",
              "      border-radius: 50%;\n",
              "      cursor: pointer;\n",
              "      display: none;\n",
              "      fill: #1967D2;\n",
              "      height: 32px;\n",
              "      padding: 0 0 0 0;\n",
              "      width: 32px;\n",
              "    }\n",
              "\n",
              "    .colab-df-convert:hover {\n",
              "      background-color: #E2EBFA;\n",
              "      box-shadow: 0px 1px 2px rgba(60, 64, 67, 0.3), 0px 1px 3px 1px rgba(60, 64, 67, 0.15);\n",
              "      fill: #174EA6;\n",
              "    }\n",
              "\n",
              "    .colab-df-buttons div {\n",
              "      margin-bottom: 4px;\n",
              "    }\n",
              "\n",
              "    [theme=dark] .colab-df-convert {\n",
              "      background-color: #3B4455;\n",
              "      fill: #D2E3FC;\n",
              "    }\n",
              "\n",
              "    [theme=dark] .colab-df-convert:hover {\n",
              "      background-color: #434B5C;\n",
              "      box-shadow: 0px 1px 3px 1px rgba(0, 0, 0, 0.15);\n",
              "      filter: drop-shadow(0px 1px 2px rgba(0, 0, 0, 0.3));\n",
              "      fill: #FFFFFF;\n",
              "    }\n",
              "  </style>\n",
              "\n",
              "    <script>\n",
              "      const buttonEl =\n",
              "        document.querySelector('#df-9d9d1037-d5af-490d-86c7-65dd470b06e3 button.colab-df-convert');\n",
              "      buttonEl.style.display =\n",
              "        google.colab.kernel.accessAllowed ? 'block' : 'none';\n",
              "\n",
              "      async function convertToInteractive(key) {\n",
              "        const element = document.querySelector('#df-9d9d1037-d5af-490d-86c7-65dd470b06e3');\n",
              "        const dataTable =\n",
              "          await google.colab.kernel.invokeFunction('convertToInteractive',\n",
              "                                                    [key], {});\n",
              "        if (!dataTable) return;\n",
              "\n",
              "        const docLinkHtml = 'Like what you see? Visit the ' +\n",
              "          '<a target=\"_blank\" href=https://colab.research.google.com/notebooks/data_table.ipynb>data table notebook</a>'\n",
              "          + ' to learn more about interactive tables.';\n",
              "        element.innerHTML = '';\n",
              "        dataTable['output_type'] = 'display_data';\n",
              "        await google.colab.output.renderOutput(dataTable, element);\n",
              "        const docLink = document.createElement('div');\n",
              "        docLink.innerHTML = docLinkHtml;\n",
              "        element.appendChild(docLink);\n",
              "      }\n",
              "    </script>\n",
              "  </div>\n",
              "\n",
              "\n",
              "<div id=\"df-8e46fe25-d277-4f77-a61e-1f0d757c8799\">\n",
              "  <button class=\"colab-df-quickchart\" onclick=\"quickchart('df-8e46fe25-d277-4f77-a61e-1f0d757c8799')\"\n",
              "            title=\"Suggest charts\"\n",
              "            style=\"display:none;\">\n",
              "\n",
              "<svg xmlns=\"http://www.w3.org/2000/svg\" height=\"24px\"viewBox=\"0 0 24 24\"\n",
              "     width=\"24px\">\n",
              "    <g>\n",
              "        <path d=\"M19 3H5c-1.1 0-2 .9-2 2v14c0 1.1.9 2 2 2h14c1.1 0 2-.9 2-2V5c0-1.1-.9-2-2-2zM9 17H7v-7h2v7zm4 0h-2V7h2v10zm4 0h-2v-4h2v4z\"/>\n",
              "    </g>\n",
              "</svg>\n",
              "  </button>\n",
              "\n",
              "<style>\n",
              "  .colab-df-quickchart {\n",
              "      --bg-color: #E8F0FE;\n",
              "      --fill-color: #1967D2;\n",
              "      --hover-bg-color: #E2EBFA;\n",
              "      --hover-fill-color: #174EA6;\n",
              "      --disabled-fill-color: #AAA;\n",
              "      --disabled-bg-color: #DDD;\n",
              "  }\n",
              "\n",
              "  [theme=dark] .colab-df-quickchart {\n",
              "      --bg-color: #3B4455;\n",
              "      --fill-color: #D2E3FC;\n",
              "      --hover-bg-color: #434B5C;\n",
              "      --hover-fill-color: #FFFFFF;\n",
              "      --disabled-bg-color: #3B4455;\n",
              "      --disabled-fill-color: #666;\n",
              "  }\n",
              "\n",
              "  .colab-df-quickchart {\n",
              "    background-color: var(--bg-color);\n",
              "    border: none;\n",
              "    border-radius: 50%;\n",
              "    cursor: pointer;\n",
              "    display: none;\n",
              "    fill: var(--fill-color);\n",
              "    height: 32px;\n",
              "    padding: 0;\n",
              "    width: 32px;\n",
              "  }\n",
              "\n",
              "  .colab-df-quickchart:hover {\n",
              "    background-color: var(--hover-bg-color);\n",
              "    box-shadow: 0 1px 2px rgba(60, 64, 67, 0.3), 0 1px 3px 1px rgba(60, 64, 67, 0.15);\n",
              "    fill: var(--button-hover-fill-color);\n",
              "  }\n",
              "\n",
              "  .colab-df-quickchart-complete:disabled,\n",
              "  .colab-df-quickchart-complete:disabled:hover {\n",
              "    background-color: var(--disabled-bg-color);\n",
              "    fill: var(--disabled-fill-color);\n",
              "    box-shadow: none;\n",
              "  }\n",
              "\n",
              "  .colab-df-spinner {\n",
              "    border: 2px solid var(--fill-color);\n",
              "    border-color: transparent;\n",
              "    border-bottom-color: var(--fill-color);\n",
              "    animation:\n",
              "      spin 1s steps(1) infinite;\n",
              "  }\n",
              "\n",
              "  @keyframes spin {\n",
              "    0% {\n",
              "      border-color: transparent;\n",
              "      border-bottom-color: var(--fill-color);\n",
              "      border-left-color: var(--fill-color);\n",
              "    }\n",
              "    20% {\n",
              "      border-color: transparent;\n",
              "      border-left-color: var(--fill-color);\n",
              "      border-top-color: var(--fill-color);\n",
              "    }\n",
              "    30% {\n",
              "      border-color: transparent;\n",
              "      border-left-color: var(--fill-color);\n",
              "      border-top-color: var(--fill-color);\n",
              "      border-right-color: var(--fill-color);\n",
              "    }\n",
              "    40% {\n",
              "      border-color: transparent;\n",
              "      border-right-color: var(--fill-color);\n",
              "      border-top-color: var(--fill-color);\n",
              "    }\n",
              "    60% {\n",
              "      border-color: transparent;\n",
              "      border-right-color: var(--fill-color);\n",
              "    }\n",
              "    80% {\n",
              "      border-color: transparent;\n",
              "      border-right-color: var(--fill-color);\n",
              "      border-bottom-color: var(--fill-color);\n",
              "    }\n",
              "    90% {\n",
              "      border-color: transparent;\n",
              "      border-bottom-color: var(--fill-color);\n",
              "    }\n",
              "  }\n",
              "</style>\n",
              "\n",
              "  <script>\n",
              "    async function quickchart(key) {\n",
              "      const quickchartButtonEl =\n",
              "        document.querySelector('#' + key + ' button');\n",
              "      quickchartButtonEl.disabled = true;  // To prevent multiple clicks.\n",
              "      quickchartButtonEl.classList.add('colab-df-spinner');\n",
              "      try {\n",
              "        const charts = await google.colab.kernel.invokeFunction(\n",
              "            'suggestCharts', [key], {});\n",
              "      } catch (error) {\n",
              "        console.error('Error during call to suggestCharts:', error);\n",
              "      }\n",
              "      quickchartButtonEl.classList.remove('colab-df-spinner');\n",
              "      quickchartButtonEl.classList.add('colab-df-quickchart-complete');\n",
              "    }\n",
              "    (() => {\n",
              "      let quickchartButtonEl =\n",
              "        document.querySelector('#df-8e46fe25-d277-4f77-a61e-1f0d757c8799 button');\n",
              "      quickchartButtonEl.style.display =\n",
              "        google.colab.kernel.accessAllowed ? 'block' : 'none';\n",
              "    })();\n",
              "  </script>\n",
              "</div>\n",
              "\n",
              "    </div>\n",
              "  </div>\n"
            ],
            "application/vnd.google.colaboratory.intrinsic+json": {
              "type": "dataframe",
              "variable_name": "df"
            }
          },
          "metadata": {},
          "execution_count": 2
        }
      ]
    },
    {
      "cell_type": "markdown",
      "source": [
        "### Report:\n",
        "\n",
        "* We begin by importing essential Python libraries for data manipulation,\n",
        "visualization, and machine learning. This includes Numpy, Pandas, Matplotlib, Seaborn, and warnings. Then with use of \"gspread\", \"google.auth\" and \"google.colab\" we establish connection with out google sheet and fetch data from google sheet .This data represents a set of financial ratios and other relevant data for a number of Taiwanese companies, along with a binary label indicating whether or not they went bankrupt."
      ],
      "metadata": {
        "id": "seGOMDn_MJGo"
      }
    },
    {
      "cell_type": "markdown",
      "source": [
        "### Learnings:\n",
        "\n",
        "* Pandas provides the core data structure (DataFrames) for handling tabular data.\n",
        "\n",
        "* Matplotlib and Seaborn are used for creating informative visualizations.\n",
        "\n",
        "* Setting display options with pd.set_option ensures all columns are visible.\n",
        "\n",
        "* Imported data is from google sheet."
      ],
      "metadata": {
        "id": "Q7_cvsktMix4"
      }
    },
    {
      "cell_type": "markdown",
      "source": [
        "## 2. EDA (Exploratory Data Analysis)\n",
        "\n"
      ],
      "metadata": {
        "id": "-ahSG_taM9y4"
      }
    },
    {
      "cell_type": "code",
      "source": [
        "for i in df.columns:\n",
        "  df[i]=pd.to_numeric(df[i])"
      ],
      "metadata": {
        "id": "GGSPKGGJ9zjK"
      },
      "execution_count": null,
      "outputs": []
    },
    {
      "cell_type": "code",
      "source": [
        "{col : len(df[col].unique())for col in df.columns}"
      ],
      "metadata": {
        "colab": {
          "base_uri": "https://localhost:8080/"
        },
        "id": "dsK-FhuM93cb",
        "outputId": "bae8679b-14de-4484-aca5-10661b14eb78"
      },
      "execution_count": null,
      "outputs": [
        {
          "output_type": "execute_result",
          "data": {
            "text/plain": [
              "{'Bankrupt?': 2,\n",
              " 'ROA(C) before interest and depreciation before interest': 3333,\n",
              " 'ROA(A) before interest and % after tax': 3151,\n",
              " 'ROA(B) before interest and depreciation after tax': 3160,\n",
              " 'Operating Gross Margin': 3781,\n",
              " 'Realized Sales Gross Margin': 3788,\n",
              " 'Operating Profit Rate': 3376,\n",
              " 'Pre-tax net Interest Rate': 3789,\n",
              " 'After-tax net Interest Rate': 3604,\n",
              " 'Non-industry income and expenditure/revenue': 2551,\n",
              " 'Continuous interest rate (after tax)': 3617,\n",
              " 'Operating Expense Rate': 2966,\n",
              " 'Research and development expense rate': 1536,\n",
              " 'Cash flow rate': 5557,\n",
              " 'Interest-bearing debt interest rate': 1080,\n",
              " 'Tax rate (A)': 2488,\n",
              " 'Net Value Per Share (B)': 2278,\n",
              " 'Net Value Per Share (A)': 2285,\n",
              " 'Net Value Per Share (C)': 2284,\n",
              " 'Persistent EPS in the Last Four Seasons': 1358,\n",
              " 'Cash Flow Per Share': 1545,\n",
              " 'Revenue Per Share (Yuan ¥)': 3807,\n",
              " 'Operating Profit Per Share (Yuan ¥)': 1236,\n",
              " 'Per Share Net profit before tax (Yuan ¥)': 1522,\n",
              " 'Realized Sales Gross Profit Growth Rate': 5583,\n",
              " 'Operating Profit Growth Rate': 6249,\n",
              " 'After-tax Net Profit Growth Rate': 6246,\n",
              " 'Regular Net Profit Growth Rate': 6253,\n",
              " 'Continuous Net Profit Growth Rate': 6270,\n",
              " 'Total Asset Growth Rate': 1751,\n",
              " 'Net Value Growth Rate': 4502,\n",
              " 'Total Asset Return Growth Rate Ratio': 2903,\n",
              " 'Cash Reinvestment %': 3599,\n",
              " 'Current Ratio': 6132,\n",
              " 'Quick Ratio': 6094,\n",
              " 'Interest Expense Ratio': 3794,\n",
              " 'Total debt/Total net worth': 5518,\n",
              " 'Debt ratio %': 4208,\n",
              " 'Net worth/Assets': 4208,\n",
              " 'Long-term fund suitability ratio (A)': 6523,\n",
              " 'Borrowing dependency': 4338,\n",
              " 'Contingent liabilities/Net worth': 1855,\n",
              " 'Operating profit/Paid-in capital': 4423,\n",
              " 'Net profit before tax/Paid-in capital': 4785,\n",
              " 'Inventory and accounts receivable/Net value': 5289,\n",
              " 'Total Asset Turnover': 381,\n",
              " 'Accounts Receivable Turnover': 1593,\n",
              " 'Average Collection Days': 5451,\n",
              " 'Inventory Turnover Rate (times)': 2397,\n",
              " 'Fixed Assets Turnover Frequency': 2451,\n",
              " 'Net Worth Turnover Rate (times)': 741,\n",
              " 'Revenue per person': 5667,\n",
              " 'Operating profit per person': 3023,\n",
              " 'Allocation rate per person': 6768,\n",
              " 'Working Capital to Total Assets': 6819,\n",
              " 'Quick Assets/Total Assets': 6819,\n",
              " 'Current Assets/Total Assets': 6819,\n",
              " 'Cash/Total Assets': 6819,\n",
              " 'Quick Assets/Current Liability': 6819,\n",
              " 'Cash/Current Liability': 6816,\n",
              " 'Current Liability to Assets': 6819,\n",
              " 'Operating Funds to Liability': 6819,\n",
              " 'Inventory/Working Capital': 6591,\n",
              " 'Inventory/Current Liability': 6590,\n",
              " 'Current Liabilities/Liability': 6627,\n",
              " 'Working Capital/Equity': 6819,\n",
              " 'Current Liabilities/Equity': 6819,\n",
              " 'Long-term Liability to Current Assets': 4249,\n",
              " 'Retained Earnings to Total Assets': 6819,\n",
              " 'Total income/Total expense': 6819,\n",
              " 'Total expense/Assets': 6819,\n",
              " 'Current Asset Turnover Rate': 6261,\n",
              " 'Quick Asset Turnover Rate': 5377,\n",
              " 'Working capitcal Turnover Rate': 6809,\n",
              " 'Cash Turnover Rate': 4023,\n",
              " 'Cash Flow to Sales': 6785,\n",
              " 'Fixed Assets to Assets': 6814,\n",
              " 'Current Liability to Liability': 6627,\n",
              " 'Current Liability to Equity': 6819,\n",
              " 'Equity to Long-term Liability': 4251,\n",
              " 'Cash Flow to Total Assets': 6819,\n",
              " 'Cash Flow to Liability': 6819,\n",
              " 'CFO to Assets': 6819,\n",
              " 'Cash Flow to Equity': 6819,\n",
              " 'Current Liability to Current Assets': 6819,\n",
              " 'Liability-Assets Flag': 2,\n",
              " 'Net Income to Total Assets': 6819,\n",
              " 'Total assets to GNP price': 6818,\n",
              " 'No-credit Interval': 6818,\n",
              " 'Gross Profit to Sales': 6816,\n",
              " \"Net Income to Stockholder's Equity\": 6819,\n",
              " 'Liability to Equity': 6818,\n",
              " 'Degree of Financial Leverage (DFL)': 6239,\n",
              " 'Interest Coverage Ratio (Interest expense to EBIT)': 6236,\n",
              " 'Net Income Flag': 1,\n",
              " 'Equity to Liability': 6819}"
            ]
          },
          "metadata": {},
          "execution_count": 4
        }
      ]
    },
    {
      "cell_type": "code",
      "source": [
        "for i in df.columns:\n",
        "  if len(df[i].unique())==1:\n",
        "    df.drop(i,axis=1,inplace=True)"
      ],
      "metadata": {
        "id": "ljzeK3Ny96mz"
      },
      "execution_count": null,
      "outputs": []
    },
    {
      "cell_type": "code",
      "source": [
        "df['Bankrupt?'].value_counts()"
      ],
      "metadata": {
        "colab": {
          "base_uri": "https://localhost:8080/",
          "height": 178
        },
        "id": "Iu7T61Ti-COC",
        "outputId": "499f8f0d-4107-4788-e8b2-b1ae3e42c1ce"
      },
      "execution_count": null,
      "outputs": [
        {
          "output_type": "execute_result",
          "data": {
            "text/plain": [
              "Bankrupt?\n",
              "0    6599\n",
              "1     220\n",
              "Name: count, dtype: int64"
            ],
            "text/html": [
              "<div>\n",
              "<style scoped>\n",
              "    .dataframe tbody tr th:only-of-type {\n",
              "        vertical-align: middle;\n",
              "    }\n",
              "\n",
              "    .dataframe tbody tr th {\n",
              "        vertical-align: top;\n",
              "    }\n",
              "\n",
              "    .dataframe thead th {\n",
              "        text-align: right;\n",
              "    }\n",
              "</style>\n",
              "<table border=\"1\" class=\"dataframe\">\n",
              "  <thead>\n",
              "    <tr style=\"text-align: right;\">\n",
              "      <th></th>\n",
              "      <th>count</th>\n",
              "    </tr>\n",
              "    <tr>\n",
              "      <th>Bankrupt?</th>\n",
              "      <th></th>\n",
              "    </tr>\n",
              "  </thead>\n",
              "  <tbody>\n",
              "    <tr>\n",
              "      <th>0</th>\n",
              "      <td>6599</td>\n",
              "    </tr>\n",
              "    <tr>\n",
              "      <th>1</th>\n",
              "      <td>220</td>\n",
              "    </tr>\n",
              "  </tbody>\n",
              "</table>\n",
              "</div><br><label><b>dtype:</b> int64</label>"
            ]
          },
          "metadata": {},
          "execution_count": 6
        }
      ]
    },
    {
      "cell_type": "code",
      "source": [
        "plt.pie(df['Bankrupt?'].value_counts(),labels=['No','Yes'],autopct='%1.1f%%')\n",
        "plt.show()"
      ],
      "metadata": {
        "colab": {
          "base_uri": "https://localhost:8080/",
          "height": 406
        },
        "id": "9O_LOWq5-Eqi",
        "outputId": "2ed87ade-39ab-45cf-8d49-75c2919ae918"
      },
      "execution_count": null,
      "outputs": [
        {
          "output_type": "display_data",
          "data": {
            "text/plain": [
              "<Figure size 640x480 with 1 Axes>"
            ],
            "image/png": "[encoded data removed]"
          },
          "metadata": {}
        }
      ]
    },
    {
      "cell_type": "markdown",
      "source": [
        "### Report:\n",
        "\n",
        "* During this phase, I analyzed and cleaned the dataset to understand the characteristics of data and handle missing values. This ensured data quality and prepared the dataset for modeling.\n",
        "\n",
        "* Converting Columns to Numeric: Columns were converted to numeric types to perform numerical analysis effectively.\n",
        "\n",
        "* Checking Unique Values: The number of unique values in each column was checked to identify and remove any constant columns that provide no predictive value.\n",
        "\n",
        "* Handling Imbalanced Data: The target variable ('Bankrupt?') was analyzed, revealing that only 3.3% of the companies went bankrupt. Addressing this imbalance is crucial to avoid biased models.\n",
        "\n"
      ],
      "metadata": {
        "id": "4PuMCBuINcuH"
      }
    },
    {
      "cell_type": "markdown",
      "source": [
        "### Learnings:\n",
        "\n",
        "* It's very important to convert the data in to right format as it makes it easier to run all data\n",
        "\n",
        "* Constant columns are removed as they provide no information for model building.\n",
        "\n",
        "* The target variable is highly imbalanced. This will require strategies to mitigate bias."
      ],
      "metadata": {
        "id": "pyYtw0saOh_u"
      }
    },
    {
      "cell_type": "markdown",
      "source": [
        "## 3. Feature Selection Using SelectKBest and Data Oversampling"
      ],
      "metadata": {
        "id": "usyb5aU9PL_u"
      }
    },
    {
      "cell_type": "code",
      "source": [
        "x=df.drop('Bankrupt?',axis=1)\n",
        "y=df['Bankrupt?']"
      ],
      "metadata": {
        "id": "zUPr1L0R-MRa"
      },
      "execution_count": null,
      "outputs": []
    },
    {
      "cell_type": "code",
      "source": [
        "from sklearn.feature_selection import f_classif, SelectKBest\n",
        "feature_selection=SelectKBest(f_classif,k=30).fit(x,y)"
      ],
      "metadata": {
        "id": "DB16K9zM-Hci"
      },
      "execution_count": null,
      "outputs": []
    },
    {
      "cell_type": "code",
      "source": [
        "feature_selection"
      ],
      "metadata": {
        "id": "7OplMzs3-7fp",
        "colab": {
          "base_uri": "https://localhost:8080/",
          "height": 80
        },
        "outputId": "7ab320b7-ffd2-45f0-fc07-959f0ef85350"
      },
      "execution_count": null,
      "outputs": [
        {
          "output_type": "execute_result",
          "data": {
            "text/plain": [
              "SelectKBest(k=30)"
            ],
            "text/html": [
              "<style>#sk-container-id-1 {\n",
              "  /* Definition of color scheme common for light and dark mode */\n",
              "  --sklearn-color-text: #000;\n",
              "  --sklearn-color-text-muted: #666;\n",
              "  --sklearn-color-line: gray;\n",
              "  /* Definition of color scheme for unfitted estimators */\n",
              "  --sklearn-color-unfitted-level-0: #fff5e6;\n",
              "  --sklearn-color-unfitted-level-1: #f6e4d2;\n",
              "  --sklearn-color-unfitted-level-2: #ffe0b3;\n",
              "  --sklearn-color-unfitted-level-3: chocolate;\n",
              "  /* Definition of color scheme for fitted estimators */\n",
              "  --sklearn-color-fitted-level-0: #f0f8ff;\n",
              "  --sklearn-color-fitted-level-1: #d4ebff;\n",
              "  --sklearn-color-fitted-level-2: #b3dbfd;\n",
              "  --sklearn-color-fitted-level-3: cornflowerblue;\n",
              "\n",
              "  /* Specific color for light theme */\n",
              "  --sklearn-color-text-on-default-background: var(--sg-text-color, var(--theme-code-foreground, var(--jp-content-font-color1, black)));\n",
              "  --sklearn-color-background: var(--sg-background-color, var(--theme-background, var(--jp-layout-color0, white)));\n",
              "  --sklearn-color-border-box: var(--sg-text-color, var(--theme-code-foreground, var(--jp-content-font-color1, black)));\n",
              "  --sklearn-color-icon: #696969;\n",
              "\n",
              "  @media (prefers-color-scheme: dark) {\n",
              "    /* Redefinition of color scheme for dark theme */\n",
              "    --sklearn-color-text-on-default-background: var(--sg-text-color, var(--theme-code-foreground, var(--jp-content-font-color1, white)));\n",
              "    --sklearn-color-background: var(--sg-background-color, var(--theme-background, var(--jp-layout-color0, #111)));\n",
              "    --sklearn-color-border-box: var(--sg-text-color, var(--theme-code-foreground, var(--jp-content-font-color1, white)));\n",
              "    --sklearn-color-icon: #878787;\n",
              "  }\n",
              "}\n",
              "\n",
              "#sk-container-id-1 {\n",
              "  color: var(--sklearn-color-text);\n",
              "}\n",
              "\n",
              "#sk-container-id-1 pre {\n",
              "  padding: 0;\n",
              "}\n",
              "\n",
              "#sk-container-id-1 input.sk-hidden--visually {\n",
              "  border: 0;\n",
              "  clip: rect(1px 1px 1px 1px);\n",
              "  clip: rect(1px, 1px, 1px, 1px);\n",
              "  height: 1px;\n",
              "  margin: -1px;\n",
              "  overflow: hidden;\n",
              "  padding: 0;\n",
              "  position: absolute;\n",
              "  width: 1px;\n",
              "}\n",
              "\n",
              "#sk-container-id-1 div.sk-dashed-wrapped {\n",
              "  border: 1px dashed var(--sklearn-color-line);\n",
              "  margin: 0 0.4em 0.5em 0.4em;\n",
              "  box-sizing: border-box;\n",
              "  padding-bottom: 0.4em;\n",
              "  background-color: var(--sklearn-color-background);\n",
              "}\n",
              "\n",
              "#sk-container-id-1 div.sk-container {\n",
              "  /* jupyter's `normalize.less` sets `[hidden] { display: none; }`\n",
              "     but bootstrap.min.css set `[hidden] { display: none !important; }`\n",
              "     so we also need the `!important` here to be able to override the\n",
              "     default hidden behavior on the sphinx rendered scikit-learn.org.\n",
              "     See: https://github.com/scikit-learn/scikit-learn/issues/21755 */\n",
              "  display: inline-block !important;\n",
              "  position: relative;\n",
              "}\n",
              "\n",
              "#sk-container-id-1 div.sk-text-repr-fallback {\n",
              "  display: none;\n",
              "}\n",
              "\n",
              "div.sk-parallel-item,\n",
              "div.sk-serial,\n",
              "div.sk-item {\n",
              "  /* draw centered vertical line to link estimators */\n",
              "  background-image: linear-gradient(var(--sklearn-color-text-on-default-background), var(--sklearn-color-text-on-default-background));\n",
              "  background-size: 2px 100%;\n",
              "  background-repeat: no-repeat;\n",
              "  background-position: center center;\n",
              "}\n",
              "\n",
              "/* Parallel-specific style estimator block */\n",
              "\n",
              "#sk-container-id-1 div.sk-parallel-item::after {\n",
              "  content: \"\";\n",
              "  width: 100%;\n",
              "  border-bottom: 2px solid var(--sklearn-color-text-on-default-background);\n",
              "  flex-grow: 1;\n",
              "}\n",
              "\n",
              "#sk-container-id-1 div.sk-parallel {\n",
              "  display: flex;\n",
              "  align-items: stretch;\n",
              "  justify-content: center;\n",
              "  background-color: var(--sklearn-color-background);\n",
              "  position: relative;\n",
              "}\n",
              "\n",
              "#sk-container-id-1 div.sk-parallel-item {\n",
              "  display: flex;\n",
              "  flex-direction: column;\n",
              "}\n",
              "\n",
              "#sk-container-id-1 div.sk-parallel-item:first-child::after {\n",
              "  align-self: flex-end;\n",
              "  width: 50%;\n",
              "}\n",
              "\n",
              "#sk-container-id-1 div.sk-parallel-item:last-child::after {\n",
              "  align-self: flex-start;\n",
              "  width: 50%;\n",
              "}\n",
              "\n",
              "#sk-container-id-1 div.sk-parallel-item:only-child::after {\n",
              "  width: 0;\n",
              "}\n",
              "\n",
              "/* Serial-specific style estimator block */\n",
              "\n",
              "#sk-container-id-1 div.sk-serial {\n",
              "  display: flex;\n",
              "  flex-direction: column;\n",
              "  align-items: center;\n",
              "  background-color: var(--sklearn-color-background);\n",
              "  padding-right: 1em;\n",
              "  padding-left: 1em;\n",
              "}\n",
              "\n",
              "\n",
              "/* Toggleable style: style used for estimator/Pipeline/ColumnTransformer box that is\n",
              "clickable and can be expanded/collapsed.\n",
              "- Pipeline and ColumnTransformer use this feature and define the default style\n",
              "- Estimators will overwrite some part of the style using the `sk-estimator` class\n",
              "*/\n",
              "\n",
              "/* Pipeline and ColumnTransformer style (default) */\n",
              "\n",
              "#sk-container-id-1 div.sk-toggleable {\n",
              "  /* Default theme specific background. It is overwritten whether we have a\n",
              "  specific estimator or a Pipeline/ColumnTransformer */\n",
              "  background-color: var(--sklearn-color-background);\n",
              "}\n",
              "\n",
              "/* Toggleable label */\n",
              "#sk-container-id-1 label.sk-toggleable__label {\n",
              "  cursor: pointer;\n",
              "  display: flex;\n",
              "  width: 100%;\n",
              "  margin-bottom: 0;\n",
              "  padding: 0.5em;\n",
              "  box-sizing: border-box;\n",
              "  text-align: center;\n",
              "  align-items: start;\n",
              "  justify-content: space-between;\n",
              "  gap: 0.5em;\n",
              "}\n",
              "\n",
              "#sk-container-id-1 label.sk-toggleable__label .caption {\n",
              "  font-size: 0.6rem;\n",
              "  font-weight: lighter;\n",
              "  color: var(--sklearn-color-text-muted);\n",
              "}\n",
              "\n",
              "#sk-container-id-1 label.sk-toggleable__label-arrow:before {\n",
              "  /* Arrow on the left of the label */\n",
              "  content: \"▸\";\n",
              "  float: left;\n",
              "  margin-right: 0.25em;\n",
              "  color: var(--sklearn-color-icon);\n",
              "}\n",
              "\n",
              "#sk-container-id-1 label.sk-toggleable__label-arrow:hover:before {\n",
              "  color: var(--sklearn-color-text);\n",
              "}\n",
              "\n",
              "/* Toggleable content - dropdown */\n",
              "\n",
              "#sk-container-id-1 div.sk-toggleable__content {\n",
              "  max-height: 0;\n",
              "  max-width: 0;\n",
              "  overflow: hidden;\n",
              "  text-align: left;\n",
              "  /* unfitted */\n",
              "  background-color: var(--sklearn-color-unfitted-level-0);\n",
              "}\n",
              "\n",
              "#sk-container-id-1 div.sk-toggleable__content.fitted {\n",
              "  /* fitted */\n",
              "  background-color: var(--sklearn-color-fitted-level-0);\n",
              "}\n",
              "\n",
              "#sk-container-id-1 div.sk-toggleable__content pre {\n",
              "  margin: 0.2em;\n",
              "  border-radius: 0.25em;\n",
              "  color: var(--sklearn-color-text);\n",
              "  /* unfitted */\n",
              "  background-color: var(--sklearn-color-unfitted-level-0);\n",
              "}\n",
              "\n",
              "#sk-container-id-1 div.sk-toggleable__content.fitted pre {\n",
              "  /* unfitted */\n",
              "  background-color: var(--sklearn-color-fitted-level-0);\n",
              "}\n",
              "\n",
              "#sk-container-id-1 input.sk-toggleable__control:checked~div.sk-toggleable__content {\n",
              "  /* Expand drop-down */\n",
              "  max-height: 200px;\n",
              "  max-width: 100%;\n",
              "  overflow: auto;\n",
              "}\n",
              "\n",
              "#sk-container-id-1 input.sk-toggleable__control:checked~label.sk-toggleable__label-arrow:before {\n",
              "  content: \"▾\";\n",
              "}\n",
              "\n",
              "/* Pipeline/ColumnTransformer-specific style */\n",
              "\n",
              "#sk-container-id-1 div.sk-label input.sk-toggleable__control:checked~label.sk-toggleable__label {\n",
              "  color: var(--sklearn-color-text);\n",
              "  background-color: var(--sklearn-color-unfitted-level-2);\n",
              "}\n",
              "\n",
              "#sk-container-id-1 div.sk-label.fitted input.sk-toggleable__control:checked~label.sk-toggleable__label {\n",
              "  background-color: var(--sklearn-color-fitted-level-2);\n",
              "}\n",
              "\n",
              "/* Estimator-specific style */\n",
              "\n",
              "/* Colorize estimator box */\n",
              "#sk-container-id-1 div.sk-estimator input.sk-toggleable__control:checked~label.sk-toggleable__label {\n",
              "  /* unfitted */\n",
              "  background-color: var(--sklearn-color-unfitted-level-2);\n",
              "}\n",
              "\n",
              "#sk-container-id-1 div.sk-estimator.fitted input.sk-toggleable__control:checked~label.sk-toggleable__label {\n",
              "  /* fitted */\n",
              "  background-color: var(--sklearn-color-fitted-level-2);\n",
              "}\n",
              "\n",
              "#sk-container-id-1 div.sk-label label.sk-toggleable__label,\n",
              "#sk-container-id-1 div.sk-label label {\n",
              "  /* The background is the default theme color */\n",
              "  color: var(--sklearn-color-text-on-default-background);\n",
              "}\n",
              "\n",
              "/* On hover, darken the color of the background */\n",
              "#sk-container-id-1 div.sk-label:hover label.sk-toggleable__label {\n",
              "  color: var(--sklearn-color-text);\n",
              "  background-color: var(--sklearn-color-unfitted-level-2);\n",
              "}\n",
              "\n",
              "/* Label box, darken color on hover, fitted */\n",
              "#sk-container-id-1 div.sk-label.fitted:hover label.sk-toggleable__label.fitted {\n",
              "  color: var(--sklearn-color-text);\n",
              "  background-color: var(--sklearn-color-fitted-level-2);\n",
              "}\n",
              "\n",
              "/* Estimator label */\n",
              "\n",
              "#sk-container-id-1 div.sk-label label {\n",
              "  font-family: monospace;\n",
              "  font-weight: bold;\n",
              "  display: inline-block;\n",
              "  line-height: 1.2em;\n",
              "}\n",
              "\n",
              "#sk-container-id-1 div.sk-label-container {\n",
              "  text-align: center;\n",
              "}\n",
              "\n",
              "/* Estimator-specific */\n",
              "#sk-container-id-1 div.sk-estimator {\n",
              "  font-family: monospace;\n",
              "  border: 1px dotted var(--sklearn-color-border-box);\n",
              "  border-radius: 0.25em;\n",
              "  box-sizing: border-box;\n",
              "  margin-bottom: 0.5em;\n",
              "  /* unfitted */\n",
              "  background-color: var(--sklearn-color-unfitted-level-0);\n",
              "}\n",
              "\n",
              "#sk-container-id-1 div.sk-estimator.fitted {\n",
              "  /* fitted */\n",
              "  background-color: var(--sklearn-color-fitted-level-0);\n",
              "}\n",
              "\n",
              "/* on hover */\n",
              "#sk-container-id-1 div.sk-estimator:hover {\n",
              "  /* unfitted */\n",
              "  background-color: var(--sklearn-color-unfitted-level-2);\n",
              "}\n",
              "\n",
              "#sk-container-id-1 div.sk-estimator.fitted:hover {\n",
              "  /* fitted */\n",
              "  background-color: var(--sklearn-color-fitted-level-2);\n",
              "}\n",
              "\n",
              "/* Specification for estimator info (e.g. \"i\" and \"?\") */\n",
              "\n",
              "/* Common style for \"i\" and \"?\" */\n",
              "\n",
              ".sk-estimator-doc-link,\n",
              "a:link.sk-estimator-doc-link,\n",
              "a:visited.sk-estimator-doc-link {\n",
              "  float: right;\n",
              "  font-size: smaller;\n",
              "  line-height: 1em;\n",
              "  font-family: monospace;\n",
              "  background-color: var(--sklearn-color-background);\n",
              "  border-radius: 1em;\n",
              "  height: 1em;\n",
              "  width: 1em;\n",
              "  text-decoration: none !important;\n",
              "  margin-left: 0.5em;\n",
              "  text-align: center;\n",
              "  /* unfitted */\n",
              "  border: var(--sklearn-color-unfitted-level-1) 1pt solid;\n",
              "  color: var(--sklearn-color-unfitted-level-1);\n",
              "}\n",
              "\n",
              ".sk-estimator-doc-link.fitted,\n",
              "a:link.sk-estimator-doc-link.fitted,\n",
              "a:visited.sk-estimator-doc-link.fitted {\n",
              "  /* fitted */\n",
              "  border: var(--sklearn-color-fitted-level-1) 1pt solid;\n",
              "  color: var(--sklearn-color-fitted-level-1);\n",
              "}\n",
              "\n",
              "/* On hover */\n",
              "div.sk-estimator:hover .sk-estimator-doc-link:hover,\n",
              ".sk-estimator-doc-link:hover,\n",
              "div.sk-label-container:hover .sk-estimator-doc-link:hover,\n",
              ".sk-estimator-doc-link:hover {\n",
              "  /* unfitted */\n",
              "  background-color: var(--sklearn-color-unfitted-level-3);\n",
              "  color: var(--sklearn-color-background);\n",
              "  text-decoration: none;\n",
              "}\n",
              "\n",
              "div.sk-estimator.fitted:hover .sk-estimator-doc-link.fitted:hover,\n",
              ".sk-estimator-doc-link.fitted:hover,\n",
              "div.sk-label-container:hover .sk-estimator-doc-link.fitted:hover,\n",
              ".sk-estimator-doc-link.fitted:hover {\n",
              "  /* fitted */\n",
              "  background-color: var(--sklearn-color-fitted-level-3);\n",
              "  color: var(--sklearn-color-background);\n",
              "  text-decoration: none;\n",
              "}\n",
              "\n",
              "/* Span, style for the box shown on hovering the info icon */\n",
              ".sk-estimator-doc-link span {\n",
              "  display: none;\n",
              "  z-index: 9999;\n",
              "  position: relative;\n",
              "  font-weight: normal;\n",
              "  right: .2ex;\n",
              "  padding: .5ex;\n",
              "  margin: .5ex;\n",
              "  width: min-content;\n",
              "  min-width: 20ex;\n",
              "  max-width: 50ex;\n",
              "  color: var(--sklearn-color-text);\n",
              "  box-shadow: 2pt 2pt 4pt #999;\n",
              "  /* unfitted */\n",
              "  background: var(--sklearn-color-unfitted-level-0);\n",
              "  border: .5pt solid var(--sklearn-color-unfitted-level-3);\n",
              "}\n",
              "\n",
              ".sk-estimator-doc-link.fitted span {\n",
              "  /* fitted */\n",
              "  background: var(--sklearn-color-fitted-level-0);\n",
              "  border: var(--sklearn-color-fitted-level-3);\n",
              "}\n",
              "\n",
              ".sk-estimator-doc-link:hover span {\n",
              "  display: block;\n",
              "}\n",
              "\n",
              "/* \"?\"-specific style due to the `<a>` HTML tag */\n",
              "\n",
              "#sk-container-id-1 a.estimator_doc_link {\n",
              "  float: right;\n",
              "  font-size: 1rem;\n",
              "  line-height: 1em;\n",
              "  font-family: monospace;\n",
              "  background-color: var(--sklearn-color-background);\n",
              "  border-radius: 1rem;\n",
              "  height: 1rem;\n",
              "  width: 1rem;\n",
              "  text-decoration: none;\n",
              "  /* unfitted */\n",
              "  color: var(--sklearn-color-unfitted-level-1);\n",
              "  border: var(--sklearn-color-unfitted-level-1) 1pt solid;\n",
              "}\n",
              "\n",
              "#sk-container-id-1 a.estimator_doc_link.fitted {\n",
              "  /* fitted */\n",
              "  border: var(--sklearn-color-fitted-level-1) 1pt solid;\n",
              "  color: var(--sklearn-color-fitted-level-1);\n",
              "}\n",
              "\n",
              "/* On hover */\n",
              "#sk-container-id-1 a.estimator_doc_link:hover {\n",
              "  /* unfitted */\n",
              "  background-color: var(--sklearn-color-unfitted-level-3);\n",
              "  color: var(--sklearn-color-background);\n",
              "  text-decoration: none;\n",
              "}\n",
              "\n",
              "#sk-container-id-1 a.estimator_doc_link.fitted:hover {\n",
              "  /* fitted */\n",
              "  background-color: var(--sklearn-color-fitted-level-3);\n",
              "}\n",
              "</style><div id=\"sk-container-id-1\" class=\"sk-top-container\"><div class=\"sk-text-repr-fallback\"><pre>SelectKBest(k=30)</pre><b>In a Jupyter environment, please rerun this cell to show the HTML representation or trust the notebook. <br />On GitHub, the HTML representation is unable to render, please try loading this page with nbviewer.org.</b></div><div class=\"sk-container\" hidden><div class=\"sk-item\"><div class=\"sk-estimator fitted sk-toggleable\"><input class=\"sk-toggleable__control sk-hidden--visually\" id=\"sk-estimator-id-1\" type=\"checkbox\" checked><label for=\"sk-estimator-id-1\" class=\"sk-toggleable__label fitted sk-toggleable__label-arrow\"><div><div>SelectKBest</div></div><div><a class=\"sk-estimator-doc-link fitted\" rel=\"noreferrer\" target=\"_blank\" href=\"https://scikit-learn.org/1.6/modules/generated/sklearn.feature_selection.SelectKBest.html\">?<span>Documentation for SelectKBest</span></a><span class=\"sk-estimator-doc-link fitted\">i<span>Fitted</span></span></div></label><div class=\"sk-toggleable__content fitted\"><pre>SelectKBest(k=30)</pre></div> </div></div></div></div>"
            ]
          },
          "metadata": {},
          "execution_count": 10
        }
      ]
    },
    {
      "cell_type": "code",
      "source": [
        "selected_features=x.columns[feature_selection.get_support()]"
      ],
      "metadata": {
        "id": "GbhyKGE9_yn4"
      },
      "execution_count": null,
      "outputs": []
    },
    {
      "cell_type": "code",
      "source": [
        "selected_features"
      ],
      "metadata": {
        "id": "W9TeIOxV_-zA",
        "colab": {
          "base_uri": "https://localhost:8080/"
        },
        "outputId": "3a0a0490-9f3c-438e-eadc-e86da8963323"
      },
      "execution_count": null,
      "outputs": [
        {
          "output_type": "execute_result",
          "data": {
            "text/plain": [
              "Index(['ROA(C) before interest and depreciation before interest',\n",
              "       'ROA(A) before interest and % after tax',\n",
              "       'ROA(B) before interest and depreciation after tax', 'Tax rate (A)',\n",
              "       'Net Value Per Share (B)', 'Net Value Per Share (A)',\n",
              "       'Net Value Per Share (C)', 'Persistent EPS in the Last Four Seasons',\n",
              "       'Operating Profit Per Share (Yuan ¥)',\n",
              "       'Per Share Net profit before tax (Yuan ¥)', 'Debt ratio %',\n",
              "       'Net worth/Assets', 'Borrowing dependency',\n",
              "       'Operating profit/Paid-in capital',\n",
              "       'Net profit before tax/Paid-in capital',\n",
              "       'Working Capital to Total Assets', 'Cash/Total Assets',\n",
              "       'Current Liability to Assets', 'Working Capital/Equity',\n",
              "       'Current Liabilities/Equity', 'Retained Earnings to Total Assets',\n",
              "       'Total expense/Assets', 'Current Liability to Equity',\n",
              "       'Equity to Long-term Liability', 'CFO to Assets',\n",
              "       'Current Liability to Current Assets', 'Liability-Assets Flag',\n",
              "       'Net Income to Total Assets', 'Net Income to Stockholder's Equity',\n",
              "       'Liability to Equity'],\n",
              "      dtype='object', name=0)"
            ]
          },
          "metadata": {},
          "execution_count": 12
        }
      ]
    },
    {
      "cell_type": "code",
      "source": [
        "x=df[selected_features]\n",
        "y=df['Bankrupt?']"
      ],
      "metadata": {
        "id": "jy-K2qHkUXBl"
      },
      "execution_count": null,
      "outputs": []
    },
    {
      "cell_type": "code",
      "source": [
        "from imblearn.over_sampling import RandomOverSampler\n",
        "oversample = RandomOverSampler()\n",
        "x,y=oversample.fit_resample(x,y)"
      ],
      "metadata": {
        "id": "0wSM7UVK-Pmi"
      },
      "execution_count": null,
      "outputs": []
    },
    {
      "cell_type": "code",
      "source": [
        "sns.countplot(x=y)"
      ],
      "metadata": {
        "id": "zV0scrZbhyHC",
        "colab": {
          "base_uri": "https://localhost:8080/",
          "height": 466
        },
        "outputId": "28911ab4-9d7f-40f7-fc89-e5306dc8be12"
      },
      "execution_count": null,
      "outputs": [
        {
          "output_type": "execute_result",
          "data": {
            "text/plain": [
              "<Axes: xlabel='Bankrupt?', ylabel='count'>"
            ]
          },
          "metadata": {},
          "execution_count": 15
        },
        {
          "output_type": "display_data",
          "data": {
            "text/plain": [
              "<Figure size 640x480 with 1 Axes>"
            ],
            "image/png": "[encoded data removed]"
          },
          "metadata": {}
        }
      ]
    },
    {
      "cell_type": "markdown",
      "source": [
        "### Report:\n",
        "\n",
        "* Given the high dimensionality of the dataset and the imbalanced nature of the target variable, I incorporated several feature selection and data balancing techniques to improve model performance.\n",
        "\n",
        "* Feature Selection: SelectKBest was used to select the 30 most relevant features based on F-scores, which enhanced model interpretability and reduced overfitting.\n",
        "\n",
        "* Oversampling: A RandomOverSampler was applied to balance the dataset by duplicating samples from the minority class (bankrupt companies). This ensures that the model is adequately trained on both bankrupt and non-bankrupt companies, preventing bias towards the majority class.\n",
        "\n"
      ],
      "metadata": {
        "id": "RdwOsfgtPjKp"
      }
    },
    {
      "cell_type": "markdown",
      "source": [
        "### Learnings:\n",
        "\n",
        "* SelectKBest is a valuable tool for reducing the dimensionality of the dataset, focusing the model on the most impactful features.\n",
        "\n",
        "* Oversampling is a crucial technique for handling imbalanced data, preventing the model from being biased towards the majority class."
      ],
      "metadata": {
        "id": "0uoFbWLjQ3Vc"
      }
    },
    {
      "cell_type": "markdown",
      "source": [
        "## 4. 1. Model Selection, Training, Evaluation and Metrics"
      ],
      "metadata": {
        "id": "mLcU6iQTR0aL"
      }
    },
    {
      "cell_type": "markdown",
      "source": [
        "1. The key measurement standard of the project was to develop a model that is both accurate and reliable in identifying companies at high risk of bankruptcy.\n",
        "\n",
        "2. F1 score was selected as the primary metrics for evaluating the model's performance and following matrics were used:\n",
        "\n",
        " * F1-Score: Selected as the primary metric because it balances precision and recall, which is especially important in bankruptcy prediction where both false positives and false negatives have significant costs.\n",
        "\n",
        " * Precision: Measures how many of the companies predicted as bankrupt are actually bankrupt. High precision reduces the risk of incorrectly flagging healthy companies.\n",
        "\n",
        " * Recall: Measures how many of the actual bankrupt companies are correctly identified by the model. High recall ensures that few bankrupt companies are missed.\n",
        "\n",
        " * Accuracy: Overall correctness of the model, but less informative than F1-score in imbalanced datasets.\n",
        "\n",
        " * Confusion Matrix: Provides a breakdown of true positives, true negatives, false positives, and false negatives.\n",
        "\n",
        " * AUC Score and ROC Curve: Visual representation of the model's ability to discriminate between bankrupt and non-bankrupt companies.\n",
        "\n",
        " * I also checked x_train and x_test score for overfitting."
      ],
      "metadata": {
        "id": "_wg3Ko9NSoyK"
      }
    },
    {
      "cell_type": "markdown",
      "source": [
        "## 4. 2. Preprocessing:"
      ],
      "metadata": {
        "id": "Smeq4kVQU-jA"
      }
    },
    {
      "cell_type": "code",
      "source": [
        "from sklearn.preprocessing import StandardScaler"
      ],
      "metadata": {
        "id": "wpId06kHUjgs"
      },
      "execution_count": null,
      "outputs": []
    },
    {
      "cell_type": "code",
      "source": [
        "scaler=StandardScaler()\n",
        "x_scale=scaler.fit_transform(x)"
      ],
      "metadata": {
        "id": "X-X6OjpwUmW4"
      },
      "execution_count": null,
      "outputs": []
    },
    {
      "cell_type": "markdown",
      "source": [
        "## 4. 3. Models Explanation:"
      ],
      "metadata": {
        "id": "1yR67xlcTrop"
      }
    },
    {
      "cell_type": "markdown",
      "source": [
        "1. Logistic Regression:\n",
        "\n",
        " * Explanation: A linear model that uses a logistic function to predict the probability of a binary outcome. It's interpretable and computationally efficient, making it suitable for benchmarking."
      ],
      "metadata": {
        "id": "t5ZnV57zUEoQ"
      }
    },
    {
      "cell_type": "code",
      "source": [
        "from sklearn.model_selection import train_test_split\n",
        "x_train, x_test, y_train, y_test = train_test_split(x_scale, y,test_size=0.3,random_state=42)\n",
        "print(x_train.shape)\n",
        "print(x_test.shape)\n",
        "print(y_train.shape)\n",
        "print(y_test.shape)"
      ],
      "metadata": {
        "id": "PhJ176mTAYjI",
        "colab": {
          "base_uri": "https://localhost:8080/"
        },
        "outputId": "6d661bb6-8528-4569-c912-19454009e1cf"
      },
      "execution_count": null,
      "outputs": [
        {
          "output_type": "stream",
          "name": "stdout",
          "text": [
            "(9238, 30)\n",
            "(3960, 30)\n",
            "(9238,)\n",
            "(3960,)\n"
          ]
        }
      ]
    },
    {
      "cell_type": "code",
      "source": [
        "from sklearn.metrics import classification_report, confusion_matrix, f1_score\n",
        "from sklearn.linear_model import LogisticRegression\n",
        "lr = LogisticRegression()\n",
        "lr.fit(x_train,y_train)\n",
        "ypred = lr.predict(x_test)\n",
        "print(classification_report(y_test,ypred))\n",
        "print(confusion_matrix(y_test,ypred))\n",
        "print(f1_score(y_test,ypred))"
      ],
      "metadata": {
        "id": "lBhyvShqAfef",
        "colab": {
          "base_uri": "https://localhost:8080/"
        },
        "outputId": "ee3f352d-015b-4047-d716-95082da44cef"
      },
      "execution_count": null,
      "outputs": [
        {
          "output_type": "stream",
          "name": "stdout",
          "text": [
            "              precision    recall  f1-score   support\n",
            "\n",
            "           0       0.89      0.87      0.88      2005\n",
            "           1       0.87      0.88      0.88      1955\n",
            "\n",
            "    accuracy                           0.88      3960\n",
            "   macro avg       0.88      0.88      0.88      3960\n",
            "weighted avg       0.88      0.88      0.88      3960\n",
            "\n",
            "[[1743  262]\n",
            " [ 225 1730]]\n",
            "0.876615150747403\n"
          ]
        }
      ]
    },
    {
      "cell_type": "code",
      "source": [
        "lr.score(x_test,y_test)"
      ],
      "metadata": {
        "id": "ypIeQDpHbtnl",
        "colab": {
          "base_uri": "https://localhost:8080/"
        },
        "outputId": "0b0e2116-591a-4c6c-9d03-0d02277a2f54"
      },
      "execution_count": null,
      "outputs": [
        {
          "output_type": "execute_result",
          "data": {
            "text/plain": [
              "0.877020202020202"
            ]
          },
          "metadata": {},
          "execution_count": 20
        }
      ]
    },
    {
      "cell_type": "code",
      "source": [
        "lr.score(x_train,y_train)"
      ],
      "metadata": {
        "id": "asxNWXRDb4Oc",
        "colab": {
          "base_uri": "https://localhost:8080/"
        },
        "outputId": "f79163f2-8988-4f1c-c4cf-035da0cd6bd4"
      },
      "execution_count": null,
      "outputs": [
        {
          "output_type": "execute_result",
          "data": {
            "text/plain": [
              "0.8722667243992206"
            ]
          },
          "metadata": {},
          "execution_count": 21
        }
      ]
    },
    {
      "cell_type": "code",
      "source": [
        "from sklearn.metrics import roc_curve,auc\n",
        "y_probs = lr.predict_proba(x_test)[:, 1]\n",
        "fpr, tpr, _ = roc_curve(y_test, y_probs)\n",
        "auc_score = auc(fpr, tpr)\n",
        "print(f\"AUC Score: {auc_score:.4f}\")\n",
        "plt.figure(figsize=(8, 6))\n",
        "plt.plot(fpr, tpr, color='blue', label=f'ROC Curve (AUC = {auc_score:.2f})')\n",
        "plt.plot([0, 1], [0, 1], color='gray', linestyle='--')\n",
        "plt.xlabel(\"False Positive Rate (FPR)\")\n",
        "plt.ylabel(\"True Positive Rate (TPR)\")\n",
        "plt.title(\"ROC Curve FOR (LogisticRegression)\")\n",
        "plt.legend()\n",
        "plt.show()"
      ],
      "metadata": {
        "id": "AxAABiC4A7XW",
        "colab": {
          "base_uri": "https://localhost:8080/",
          "height": 581
        },
        "outputId": "486f5d34-a2a2-418c-cda3-4b320a7c3485"
      },
      "execution_count": null,
      "outputs": [
        {
          "output_type": "stream",
          "name": "stdout",
          "text": [
            "AUC Score: 0.9446\n"
          ]
        },
        {
          "output_type": "display_data",
          "data": {
            "text/plain": [
              "<Figure size 800x600 with 1 Axes>"
            ],
            "image/png": "[encoded data removed]"
          },
          "metadata": {}
        }
      ]
    },
    {
      "cell_type": "markdown",
      "source": [
        "2. Support Vector Machine (SVM):\n",
        "\n",
        "  * Explanation: A powerful algorithm that finds the optimal hyperplane to separate data into different classes. I explored both linear and RBF kernels to assess the best fit for the data."
      ],
      "metadata": {
        "id": "FHtxWrwrWSb-"
      }
    },
    {
      "cell_type": "code",
      "source": [
        "from sklearn.svm import SVC\n",
        "svc = SVC(kernel=\"linear\")\n",
        "svc.fit(x_train,y_train)\n",
        "ypred = svc.predict(x_test)\n",
        "print(classification_report(y_test,ypred))\n",
        "print(confusion_matrix(y_test,ypred))\n",
        "print(f1_score(y_test,ypred))"
      ],
      "metadata": {
        "id": "aa2K9SrdBFJe",
        "colab": {
          "base_uri": "https://localhost:8080/"
        },
        "outputId": "f826621e-12ff-4465-cd31-79a910d7951b"
      },
      "execution_count": null,
      "outputs": [
        {
          "output_type": "stream",
          "name": "stdout",
          "text": [
            "              precision    recall  f1-score   support\n",
            "\n",
            "           0       0.88      0.86      0.87      2005\n",
            "           1       0.86      0.88      0.87      1955\n",
            "\n",
            "    accuracy                           0.87      3960\n",
            "   macro avg       0.87      0.87      0.87      3960\n",
            "weighted avg       0.87      0.87      0.87      3960\n",
            "\n",
            "[[1731  274]\n",
            " [ 232 1723]]\n",
            "0.8719635627530364\n"
          ]
        }
      ]
    },
    {
      "cell_type": "code",
      "source": [
        "svc.score(x_test,y_test)"
      ],
      "metadata": {
        "id": "ky3iIiIzcAIk",
        "colab": {
          "base_uri": "https://localhost:8080/"
        },
        "outputId": "133f3fc0-e180-4e5a-f610-dfe49ea8454d"
      },
      "execution_count": null,
      "outputs": [
        {
          "output_type": "execute_result",
          "data": {
            "text/plain": [
              "0.8722222222222222"
            ]
          },
          "metadata": {},
          "execution_count": 24
        }
      ]
    },
    {
      "cell_type": "code",
      "source": [
        "svc.score(x_train,y_train)"
      ],
      "metadata": {
        "id": "GU8ilWLBcCwE",
        "colab": {
          "base_uri": "https://localhost:8080/"
        },
        "outputId": "100fc20b-aa2b-483d-bb62-456ce290d37f"
      },
      "execution_count": null,
      "outputs": [
        {
          "output_type": "execute_result",
          "data": {
            "text/plain": [
              "0.8696687594717472"
            ]
          },
          "metadata": {},
          "execution_count": 25
        }
      ]
    },
    {
      "cell_type": "code",
      "source": [
        "from sklearn.metrics import roc_curve,auc\n",
        "y_probs = lr.predict_proba(x_test)[:, 1]\n",
        "fpr, tpr, _ = roc_curve(y_test, y_probs)\n",
        "auc_score = auc(fpr, tpr)\n",
        "print(f\"AUC Score: {auc_score:.4f}\")\n",
        "plt.figure(figsize=(8, 6))\n",
        "plt.plot(fpr, tpr, color='blue', label=f'ROC Curve (AUC = {auc_score:.2f})')\n",
        "plt.plot([0, 1], [0, 1], color='gray', linestyle='--')\n",
        "plt.xlabel(\"False Positive Rate (FPR)\")\n",
        "plt.ylabel(\"True Positive Rate (TPR)\")\n",
        "plt.title(\"ROC Curve FOR (SVM'linear')\")\n",
        "plt.legend()\n",
        "plt.show()"
      ],
      "metadata": {
        "id": "AB0VkRBPBVNG",
        "colab": {
          "base_uri": "https://localhost:8080/",
          "height": 581
        },
        "outputId": "d30f4117-041a-4027-f706-3c3cb30644e1"
      },
      "execution_count": null,
      "outputs": [
        {
          "output_type": "stream",
          "name": "stdout",
          "text": [
            "AUC Score: 0.9446\n"
          ]
        },
        {
          "output_type": "display_data",
          "data": {
            "text/plain": [
              "<Figure size 800x600 with 1 Axes>"
            ],
            "image/png": "[encoded data removed]"
          },
          "metadata": {}
        }
      ]
    },
    {
      "cell_type": "code",
      "source": [
        "from sklearn.svm import SVC\n",
        "svc1 = SVC(class_weight=\"balanced\",kernel=\"rbf\")\n",
        "svc1.fit(x_train,y_train)\n",
        "ypred = svc1.predict(x_test)\n",
        "print(classification_report(y_test,ypred))\n",
        "print(confusion_matrix(y_test,ypred))\n",
        "print(f1_score(y_test,ypred))"
      ],
      "metadata": {
        "id": "28NOhF19Bav2",
        "colab": {
          "base_uri": "https://localhost:8080/"
        },
        "outputId": "f4c28460-21e7-418a-91f4-cc5505aaa28b"
      },
      "execution_count": null,
      "outputs": [
        {
          "output_type": "stream",
          "name": "stdout",
          "text": [
            "              precision    recall  f1-score   support\n",
            "\n",
            "           0       0.95      0.86      0.90      2005\n",
            "           1       0.87      0.95      0.91      1955\n",
            "\n",
            "    accuracy                           0.91      3960\n",
            "   macro avg       0.91      0.91      0.91      3960\n",
            "weighted avg       0.91      0.91      0.91      3960\n",
            "\n",
            "[[1733  272]\n",
            " [  93 1862]]\n",
            "0.9107361213010516\n"
          ]
        }
      ]
    },
    {
      "cell_type": "code",
      "source": [
        "svc1.score(x_test,y_test)"
      ],
      "metadata": {
        "id": "z_GsV365cRVs",
        "colab": {
          "base_uri": "https://localhost:8080/"
        },
        "outputId": "3d76a43d-30f5-441d-a0dc-9024945533f8"
      },
      "execution_count": null,
      "outputs": [
        {
          "output_type": "execute_result",
          "data": {
            "text/plain": [
              "0.9078282828282829"
            ]
          },
          "metadata": {},
          "execution_count": 28
        }
      ]
    },
    {
      "cell_type": "code",
      "source": [
        "svc1.score(x_train,y_train)"
      ],
      "metadata": {
        "id": "iBm5Wg-WcLWD",
        "colab": {
          "base_uri": "https://localhost:8080/"
        },
        "outputId": "8f7d1aa2-3b5a-4c16-b115-47c42e47a2ae"
      },
      "execution_count": null,
      "outputs": [
        {
          "output_type": "execute_result",
          "data": {
            "text/plain": [
              "0.9085299848452046"
            ]
          },
          "metadata": {},
          "execution_count": 29
        }
      ]
    },
    {
      "cell_type": "code",
      "source": [
        "from sklearn.metrics import roc_curve,auc\n",
        "y_probs = lr.predict_proba(x_test)[:, 1]\n",
        "fpr, tpr, _ = roc_curve(y_test, y_probs)\n",
        "auc_score = auc(fpr, tpr)\n",
        "print(f\"AUC Score: {auc_score:.4f}\")\n",
        "plt.figure(figsize=(8, 6))\n",
        "plt.plot(fpr, tpr, color='blue', label=f'ROC Curve (AUC = {auc_score:.2f})')\n",
        "plt.plot([0, 1], [0, 1], color='gray', linestyle='--')\n",
        "plt.xlabel(\"False Positive Rate (FPR)\")\n",
        "plt.ylabel(\"True Positive Rate (TPR)\")\n",
        "plt.title(\"ROC Curve FOR (SVM'rbf')\")\n",
        "plt.legend()\n",
        "plt.show()"
      ],
      "metadata": {
        "id": "7CsfMTZaBu0H",
        "colab": {
          "base_uri": "https://localhost:8080/",
          "height": 581
        },
        "outputId": "6a0b081e-2117-4563-ad96-9201ca9e0243"
      },
      "execution_count": null,
      "outputs": [
        {
          "output_type": "stream",
          "name": "stdout",
          "text": [
            "AUC Score: 0.9446\n"
          ]
        },
        {
          "output_type": "display_data",
          "data": {
            "text/plain": [
              "<Figure size 800x600 with 1 Axes>"
            ],
            "image/png": "[encoded data removed]"
          },
          "metadata": {}
        }
      ]
    },
    {
      "cell_type": "markdown",
      "source": [
        "3. XGBoost (Extreme Gradient Boosting):\n",
        "\n",
        "  * Explanation: A gradient boosting algorithm known for its high performance and ability to handle complex relationships in the data. XGBoost is robust to overfitting and can provide feature importance rankings."
      ],
      "metadata": {
        "id": "JywPx7iTWmu-"
      }
    },
    {
      "cell_type": "code",
      "source": [
        "from xgboost import XGBClassifier\n",
        "xgb = XGBClassifier()\n",
        "xgb.fit(x_train,y_train)\n",
        "ypred = xgb.predict(x_test)\n",
        "print(classification_report(y_test,ypred))\n",
        "print(confusion_matrix(y_test,ypred))\n",
        "print(f1_score(y_test,ypred))"
      ],
      "metadata": {
        "id": "7G5LaavCD9ua",
        "colab": {
          "base_uri": "https://localhost:8080/"
        },
        "outputId": "2a58359a-efec-4726-d185-399c0f019738"
      },
      "execution_count": null,
      "outputs": [
        {
          "output_type": "stream",
          "name": "stdout",
          "text": [
            "              precision    recall  f1-score   support\n",
            "\n",
            "           0       1.00      0.98      0.99      2005\n",
            "           1       0.98      1.00      0.99      1955\n",
            "\n",
            "    accuracy                           0.99      3960\n",
            "   macro avg       0.99      0.99      0.99      3960\n",
            "weighted avg       0.99      0.99      0.99      3960\n",
            "\n",
            "[[1972   33]\n",
            " [   0 1955]]\n",
            "0.9916307380167385\n"
          ]
        }
      ]
    },
    {
      "cell_type": "code",
      "source": [
        "xgb.score(x_train,y_train)"
      ],
      "metadata": {
        "id": "iqXjs3hecklL",
        "colab": {
          "base_uri": "https://localhost:8080/"
        },
        "outputId": "71f574eb-a771-4a1f-a25c-66e5c68442ae"
      },
      "execution_count": null,
      "outputs": [
        {
          "output_type": "execute_result",
          "data": {
            "text/plain": [
              "1.0"
            ]
          },
          "metadata": {},
          "execution_count": 32
        }
      ]
    },
    {
      "cell_type": "code",
      "source": [
        "xgb.score(x_test,y_test)"
      ],
      "metadata": {
        "id": "BY_tkaJjcaDr",
        "colab": {
          "base_uri": "https://localhost:8080/"
        },
        "outputId": "b1bd37e8-f267-4e4f-993d-20ef6981f37c"
      },
      "execution_count": null,
      "outputs": [
        {
          "output_type": "execute_result",
          "data": {
            "text/plain": [
              "0.9916666666666667"
            ]
          },
          "metadata": {},
          "execution_count": 33
        }
      ]
    },
    {
      "cell_type": "code",
      "source": [
        "from sklearn.metrics import roc_curve,auc\n",
        "y_probs = xgb.predict_proba(x_test)[:, 1]\n",
        "fpr, tpr, _ = roc_curve(y_test, y_probs)\n",
        "auc_score = auc(fpr, tpr)\n",
        "print(f\"AUC Score: {auc_score:.4f}\")\n",
        "plt.figure(figsize=(8, 6))\n",
        "plt.plot(fpr, tpr, color='blue', label=f'ROC Curve (AUC = {auc_score:.2f})')\n",
        "plt.plot([0, 1], [0, 1], color='gray', linestyle='--')\n",
        "plt.xlabel(\"False Positive Rate (FPR)\")\n",
        "plt.ylabel(\"True Positive Rate (TPR)\")\n",
        "plt.title(\"ROC Curve FOR (XGBClassifier)\")\n",
        "plt.legend()\n",
        "plt.show()\n"
      ],
      "metadata": {
        "id": "gRjhX0xoELty",
        "colab": {
          "base_uri": "https://localhost:8080/",
          "height": 581
        },
        "outputId": "3c7faf13-3432-4f0e-9d67-ff7f7f8e1d48"
      },
      "execution_count": null,
      "outputs": [
        {
          "output_type": "stream",
          "name": "stdout",
          "text": [
            "AUC Score: 1.0000\n"
          ]
        },
        {
          "output_type": "display_data",
          "data": {
            "text/plain": [
              "<Figure size 800x600 with 1 Axes>"
            ],
            "image/png": "[encoded data removed]"
          },
          "metadata": {}
        }
      ]
    },
    {
      "cell_type": "markdown",
      "source": [
        "### Learnings:\n",
        "\n",
        " * I observed that while the other models performed reasonably well, the XGBoost model significantly outperformed the others in terms of F1-score, precision, and recall. All other models had a AUC sore of around 0.94 whereas XGboost reached 1 which could be dangerous for real-world implimentation."
      ],
      "metadata": {
        "id": "7YTpC9t-XPHo"
      }
    },
    {
      "cell_type": "markdown",
      "source": [
        "## 5. Conclusion\n",
        "\n",
        "* Based on the project's findings, the XGBoost model emerged as the most promising solution for bankruptcy prediction, delivering a high degree of accuracy, achieving an F1-score of 0.99.\n",
        "\n",
        "* This model can be effectively deployed for proactively identifying financially distressed companies and enable different financial sectors to plan accordingly.\n",
        "\n",
        "* However, it's important to keep a check for overfitting as AUC score is 1 which can be dangerous for real world implementation."
      ],
      "metadata": {
        "id": "RQoFKQ6iXilm"
      }
    }
  ]
}